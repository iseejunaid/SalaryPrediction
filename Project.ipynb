{
 "cells": [
  {
   "cell_type": "markdown",
   "id": "85860406",
   "metadata": {},
   "source": [
    "<h1>Salary Prediction<h1>\n",
    "    <h2>ML Semester Project<h2>\n",
    "        <p> My model takes following inputs from user and predicts if salary <=50 or >50<br>\n",
    "            age               int64<br>\n",
    "        workclass         int64<br>\n",
    "        education         int64<br>\n",
    "        education-num     int64<br>\n",
    "        marital-status    int64<br>\n",
    "        occupation        int64<br>\n",
    "        relationship      int64<br>\n",
    "        race              int64<br>\n",
    "        sex               int64<br>\n",
    "        capital-gain      int64<br>\n",
    "        capital-loss      int64<br>\n",
    "        hours-per-week    int64\n",
    "</p>"
   ]
  },
  {
   "cell_type": "code",
   "execution_count": 1,
   "id": "dbac7d24",
   "metadata": {
    "execution": {
     "iopub.execute_input": "2023-05-01T00:34:12.800819Z",
     "iopub.status.busy": "2023-05-01T00:34:12.800332Z",
     "iopub.status.idle": "2023-05-01T00:34:13.892000Z",
     "shell.execute_reply": "2023-05-01T00:34:13.891066Z"
    },
    "papermill": {
     "duration": 1.118433,
     "end_time": "2023-05-01T00:34:13.894765",
     "exception": false,
     "start_time": "2023-05-01T00:34:12.776332",
     "status": "completed"
    },
    "tags": []
   },
   "outputs": [],
   "source": [
    "# import required libraries\n",
    "import pandas as pd\n",
    "import numpy as np\n",
    "import matplotlib.pyplot as plt\n",
    "import seaborn as sns"
   ]
  },
  {
   "cell_type": "markdown",
   "id": "02123f3e",
   "metadata": {},
   "source": [
    "<h1>Reading Dataset<h1>"
   ]
  },
  {
   "cell_type": "code",
   "execution_count": 2,
   "id": "b92a864a",
   "metadata": {
    "execution": {
     "iopub.execute_input": "2023-05-01T00:34:13.940636Z",
     "iopub.status.busy": "2023-05-01T00:34:13.939926Z",
     "iopub.status.idle": "2023-05-01T00:34:14.089506Z",
     "shell.execute_reply": "2023-05-01T00:34:14.088275Z"
    },
    "papermill": {
     "duration": 0.175471,
     "end_time": "2023-05-01T00:34:14.092318",
     "exception": false,
     "start_time": "2023-05-01T00:34:13.916847",
     "status": "completed"
    },
    "tags": []
   },
   "outputs": [
    {
     "data": {
      "text/html": [
       "<div>\n",
       "<style scoped>\n",
       "    .dataframe tbody tr th:only-of-type {\n",
       "        vertical-align: middle;\n",
       "    }\n",
       "\n",
       "    .dataframe tbody tr th {\n",
       "        vertical-align: top;\n",
       "    }\n",
       "\n",
       "    .dataframe thead th {\n",
       "        text-align: right;\n",
       "    }\n",
       "</style>\n",
       "<table border=\"1\" class=\"dataframe\">\n",
       "  <thead>\n",
       "    <tr style=\"text-align: right;\">\n",
       "      <th></th>\n",
       "      <th>age</th>\n",
       "      <th>workclass</th>\n",
       "      <th>fnlwgt</th>\n",
       "      <th>education</th>\n",
       "      <th>education-num</th>\n",
       "      <th>marital-status</th>\n",
       "      <th>occupation</th>\n",
       "      <th>relationship</th>\n",
       "      <th>race</th>\n",
       "      <th>sex</th>\n",
       "      <th>capital-gain</th>\n",
       "      <th>capital-loss</th>\n",
       "      <th>hours-per-week</th>\n",
       "      <th>native-country</th>\n",
       "      <th>salary</th>\n",
       "    </tr>\n",
       "  </thead>\n",
       "  <tbody>\n",
       "    <tr>\n",
       "      <th>0</th>\n",
       "      <td>39</td>\n",
       "      <td>State-gov</td>\n",
       "      <td>77516</td>\n",
       "      <td>Bachelors</td>\n",
       "      <td>13</td>\n",
       "      <td>Never-married</td>\n",
       "      <td>Adm-clerical</td>\n",
       "      <td>Not-in-family</td>\n",
       "      <td>White</td>\n",
       "      <td>Male</td>\n",
       "      <td>2174</td>\n",
       "      <td>0</td>\n",
       "      <td>40</td>\n",
       "      <td>United-States</td>\n",
       "      <td>&lt;=50K</td>\n",
       "    </tr>\n",
       "    <tr>\n",
       "      <th>1</th>\n",
       "      <td>50</td>\n",
       "      <td>Self-emp-not-inc</td>\n",
       "      <td>83311</td>\n",
       "      <td>Bachelors</td>\n",
       "      <td>13</td>\n",
       "      <td>Married-civ-spouse</td>\n",
       "      <td>Exec-managerial</td>\n",
       "      <td>Husband</td>\n",
       "      <td>White</td>\n",
       "      <td>Male</td>\n",
       "      <td>0</td>\n",
       "      <td>0</td>\n",
       "      <td>13</td>\n",
       "      <td>United-States</td>\n",
       "      <td>&lt;=50K</td>\n",
       "    </tr>\n",
       "    <tr>\n",
       "      <th>2</th>\n",
       "      <td>38</td>\n",
       "      <td>Private</td>\n",
       "      <td>215646</td>\n",
       "      <td>HS-grad</td>\n",
       "      <td>9</td>\n",
       "      <td>Divorced</td>\n",
       "      <td>Handlers-cleaners</td>\n",
       "      <td>Not-in-family</td>\n",
       "      <td>White</td>\n",
       "      <td>Male</td>\n",
       "      <td>0</td>\n",
       "      <td>0</td>\n",
       "      <td>40</td>\n",
       "      <td>United-States</td>\n",
       "      <td>&lt;=50K</td>\n",
       "    </tr>\n",
       "    <tr>\n",
       "      <th>3</th>\n",
       "      <td>53</td>\n",
       "      <td>Private</td>\n",
       "      <td>234721</td>\n",
       "      <td>11th</td>\n",
       "      <td>7</td>\n",
       "      <td>Married-civ-spouse</td>\n",
       "      <td>Handlers-cleaners</td>\n",
       "      <td>Husband</td>\n",
       "      <td>Black</td>\n",
       "      <td>Male</td>\n",
       "      <td>0</td>\n",
       "      <td>0</td>\n",
       "      <td>40</td>\n",
       "      <td>United-States</td>\n",
       "      <td>&lt;=50K</td>\n",
       "    </tr>\n",
       "    <tr>\n",
       "      <th>4</th>\n",
       "      <td>28</td>\n",
       "      <td>Private</td>\n",
       "      <td>338409</td>\n",
       "      <td>Bachelors</td>\n",
       "      <td>13</td>\n",
       "      <td>Married-civ-spouse</td>\n",
       "      <td>Prof-specialty</td>\n",
       "      <td>Wife</td>\n",
       "      <td>Black</td>\n",
       "      <td>Female</td>\n",
       "      <td>0</td>\n",
       "      <td>0</td>\n",
       "      <td>40</td>\n",
       "      <td>Cuba</td>\n",
       "      <td>&lt;=50K</td>\n",
       "    </tr>\n",
       "  </tbody>\n",
       "</table>\n",
       "</div>"
      ],
      "text/plain": [
       "   age          workclass  fnlwgt   education  education-num  \\\n",
       "0   39          State-gov   77516   Bachelors             13   \n",
       "1   50   Self-emp-not-inc   83311   Bachelors             13   \n",
       "2   38            Private  215646     HS-grad              9   \n",
       "3   53            Private  234721        11th              7   \n",
       "4   28            Private  338409   Bachelors             13   \n",
       "\n",
       "        marital-status          occupation    relationship    race      sex  \\\n",
       "0        Never-married        Adm-clerical   Not-in-family   White     Male   \n",
       "1   Married-civ-spouse     Exec-managerial         Husband   White     Male   \n",
       "2             Divorced   Handlers-cleaners   Not-in-family   White     Male   \n",
       "3   Married-civ-spouse   Handlers-cleaners         Husband   Black     Male   \n",
       "4   Married-civ-spouse      Prof-specialty            Wife   Black   Female   \n",
       "\n",
       "   capital-gain  capital-loss  hours-per-week  native-country  salary  \n",
       "0          2174             0              40   United-States   <=50K  \n",
       "1             0             0              13   United-States   <=50K  \n",
       "2             0             0              40   United-States   <=50K  \n",
       "3             0             0              40   United-States   <=50K  \n",
       "4             0             0              40            Cuba   <=50K  "
      ]
     },
     "execution_count": 2,
     "metadata": {},
     "output_type": "execute_result"
    }
   ],
   "source": [
    "# read the dataset\n",
    "df = pd.read_csv('data/salary.csv')\n",
    "df.head()"
   ]
  },
  {
   "cell_type": "code",
   "execution_count": 3,
   "id": "b621756b",
   "metadata": {
    "execution": {
     "iopub.execute_input": "2023-05-01T00:34:14.183192Z",
     "iopub.status.busy": "2023-05-01T00:34:14.181952Z",
     "iopub.status.idle": "2023-05-01T00:34:14.193561Z",
     "shell.execute_reply": "2023-05-01T00:34:14.192756Z"
    },
    "papermill": {
     "duration": 0.036848,
     "end_time": "2023-05-01T00:34:14.195651",
     "exception": false,
     "start_time": "2023-05-01T00:34:14.158803",
     "status": "completed"
    },
    "tags": []
   },
   "outputs": [
    {
     "data": {
      "text/plain": [
       "(32561, 15)"
      ]
     },
     "execution_count": 3,
     "metadata": {},
     "output_type": "execute_result"
    }
   ],
   "source": [
    "emp_df = df.copy()\n",
    "\n",
    "emp_df.shape"
   ]
  },
  {
   "cell_type": "markdown",
   "id": "3aff97aa",
   "metadata": {
    "papermill": {
     "duration": 0.022181,
     "end_time": "2023-05-01T00:34:14.240230",
     "exception": false,
     "start_time": "2023-05-01T00:34:14.218049",
     "status": "completed"
    },
    "tags": []
   },
   "source": [
    "**Result:**<br />\n",
    "There are **32561** observations and **15** features"
   ]
  },
  {
   "cell_type": "code",
   "execution_count": 4,
   "id": "c0e3a78c",
   "metadata": {
    "execution": {
     "iopub.execute_input": "2023-05-01T00:34:14.286947Z",
     "iopub.status.busy": "2023-05-01T00:34:14.285719Z",
     "iopub.status.idle": "2023-05-01T00:34:14.293454Z",
     "shell.execute_reply": "2023-05-01T00:34:14.292300Z"
    },
    "papermill": {
     "duration": 0.032969,
     "end_time": "2023-05-01T00:34:14.295660",
     "exception": false,
     "start_time": "2023-05-01T00:34:14.262691",
     "status": "completed"
    },
    "tags": []
   },
   "outputs": [
    {
     "data": {
      "text/plain": [
       "Index(['age', 'workclass', 'fnlwgt', 'education', 'education-num',\n",
       "       'marital-status', 'occupation', 'relationship', 'race', 'sex',\n",
       "       'capital-gain', 'capital-loss', 'hours-per-week', 'native-country',\n",
       "       'salary'],\n",
       "      dtype='object')"
      ]
     },
     "execution_count": 4,
     "metadata": {},
     "output_type": "execute_result"
    }
   ],
   "source": [
    "# featues:\n",
    "emp_df.columns"
   ]
  },
  {
   "cell_type": "code",
   "execution_count": 5,
   "id": "3d1dd5fb",
   "metadata": {
    "execution": {
     "iopub.execute_input": "2023-05-01T00:34:14.342893Z",
     "iopub.status.busy": "2023-05-01T00:34:14.342163Z",
     "iopub.status.idle": "2023-05-01T00:34:14.380407Z",
     "shell.execute_reply": "2023-05-01T00:34:14.378615Z"
    },
    "papermill": {
     "duration": 0.064715,
     "end_time": "2023-05-01T00:34:14.382847",
     "exception": false,
     "start_time": "2023-05-01T00:34:14.318132",
     "status": "completed"
    },
    "tags": []
   },
   "outputs": [
    {
     "name": "stdout",
     "output_type": "stream",
     "text": [
      "<class 'pandas.core.frame.DataFrame'>\n",
      "RangeIndex: 32561 entries, 0 to 32560\n",
      "Data columns (total 15 columns):\n",
      " #   Column          Non-Null Count  Dtype \n",
      "---  ------          --------------  ----- \n",
      " 0   age             32561 non-null  int64 \n",
      " 1   workclass       32561 non-null  object\n",
      " 2   fnlwgt          32561 non-null  int64 \n",
      " 3   education       32561 non-null  object\n",
      " 4   education-num   32561 non-null  int64 \n",
      " 5   marital-status  32561 non-null  object\n",
      " 6   occupation      32561 non-null  object\n",
      " 7   relationship    32561 non-null  object\n",
      " 8   race            32561 non-null  object\n",
      " 9   sex             32561 non-null  object\n",
      " 10  capital-gain    32561 non-null  int64 \n",
      " 11  capital-loss    32561 non-null  int64 \n",
      " 12  hours-per-week  32561 non-null  int64 \n",
      " 13  native-country  32561 non-null  object\n",
      " 14  salary          32561 non-null  object\n",
      "dtypes: int64(6), object(9)\n",
      "memory usage: 3.7+ MB\n"
     ]
    }
   ],
   "source": [
    "# An high-level overview on the dataset\n",
    "emp_df.info()"
   ]
  },
  {
   "cell_type": "code",
   "execution_count": 6,
   "id": "add57dfe",
   "metadata": {
    "execution": {
     "iopub.execute_input": "2023-05-01T00:34:14.430641Z",
     "iopub.status.busy": "2023-05-01T00:34:14.430196Z",
     "iopub.status.idle": "2023-05-01T00:34:14.467881Z",
     "shell.execute_reply": "2023-05-01T00:34:14.466716Z"
    },
    "papermill": {
     "duration": 0.064125,
     "end_time": "2023-05-01T00:34:14.469959",
     "exception": false,
     "start_time": "2023-05-01T00:34:14.405834",
     "status": "completed"
    },
    "tags": []
   },
   "outputs": [
    {
     "data": {
      "text/html": [
       "<div>\n",
       "<style scoped>\n",
       "    .dataframe tbody tr th:only-of-type {\n",
       "        vertical-align: middle;\n",
       "    }\n",
       "\n",
       "    .dataframe tbody tr th {\n",
       "        vertical-align: top;\n",
       "    }\n",
       "\n",
       "    .dataframe thead th {\n",
       "        text-align: right;\n",
       "    }\n",
       "</style>\n",
       "<table border=\"1\" class=\"dataframe\">\n",
       "  <thead>\n",
       "    <tr style=\"text-align: right;\">\n",
       "      <th></th>\n",
       "      <th>age</th>\n",
       "      <th>fnlwgt</th>\n",
       "      <th>education-num</th>\n",
       "      <th>capital-gain</th>\n",
       "      <th>capital-loss</th>\n",
       "      <th>hours-per-week</th>\n",
       "    </tr>\n",
       "  </thead>\n",
       "  <tbody>\n",
       "    <tr>\n",
       "      <th>count</th>\n",
       "      <td>32561.000000</td>\n",
       "      <td>3.256100e+04</td>\n",
       "      <td>32561.000000</td>\n",
       "      <td>32561.000000</td>\n",
       "      <td>32561.000000</td>\n",
       "      <td>32561.000000</td>\n",
       "    </tr>\n",
       "    <tr>\n",
       "      <th>mean</th>\n",
       "      <td>38.581647</td>\n",
       "      <td>1.897784e+05</td>\n",
       "      <td>10.080679</td>\n",
       "      <td>1077.648844</td>\n",
       "      <td>87.303830</td>\n",
       "      <td>40.437456</td>\n",
       "    </tr>\n",
       "    <tr>\n",
       "      <th>std</th>\n",
       "      <td>13.640433</td>\n",
       "      <td>1.055500e+05</td>\n",
       "      <td>2.572720</td>\n",
       "      <td>7385.292085</td>\n",
       "      <td>402.960219</td>\n",
       "      <td>12.347429</td>\n",
       "    </tr>\n",
       "    <tr>\n",
       "      <th>min</th>\n",
       "      <td>17.000000</td>\n",
       "      <td>1.228500e+04</td>\n",
       "      <td>1.000000</td>\n",
       "      <td>0.000000</td>\n",
       "      <td>0.000000</td>\n",
       "      <td>1.000000</td>\n",
       "    </tr>\n",
       "    <tr>\n",
       "      <th>25%</th>\n",
       "      <td>28.000000</td>\n",
       "      <td>1.178270e+05</td>\n",
       "      <td>9.000000</td>\n",
       "      <td>0.000000</td>\n",
       "      <td>0.000000</td>\n",
       "      <td>40.000000</td>\n",
       "    </tr>\n",
       "    <tr>\n",
       "      <th>50%</th>\n",
       "      <td>37.000000</td>\n",
       "      <td>1.783560e+05</td>\n",
       "      <td>10.000000</td>\n",
       "      <td>0.000000</td>\n",
       "      <td>0.000000</td>\n",
       "      <td>40.000000</td>\n",
       "    </tr>\n",
       "    <tr>\n",
       "      <th>75%</th>\n",
       "      <td>48.000000</td>\n",
       "      <td>2.370510e+05</td>\n",
       "      <td>12.000000</td>\n",
       "      <td>0.000000</td>\n",
       "      <td>0.000000</td>\n",
       "      <td>45.000000</td>\n",
       "    </tr>\n",
       "    <tr>\n",
       "      <th>max</th>\n",
       "      <td>90.000000</td>\n",
       "      <td>1.484705e+06</td>\n",
       "      <td>16.000000</td>\n",
       "      <td>99999.000000</td>\n",
       "      <td>4356.000000</td>\n",
       "      <td>99.000000</td>\n",
       "    </tr>\n",
       "  </tbody>\n",
       "</table>\n",
       "</div>"
      ],
      "text/plain": [
       "                age        fnlwgt  education-num  capital-gain  capital-loss  \\\n",
       "count  32561.000000  3.256100e+04   32561.000000  32561.000000  32561.000000   \n",
       "mean      38.581647  1.897784e+05      10.080679   1077.648844     87.303830   \n",
       "std       13.640433  1.055500e+05       2.572720   7385.292085    402.960219   \n",
       "min       17.000000  1.228500e+04       1.000000      0.000000      0.000000   \n",
       "25%       28.000000  1.178270e+05       9.000000      0.000000      0.000000   \n",
       "50%       37.000000  1.783560e+05      10.000000      0.000000      0.000000   \n",
       "75%       48.000000  2.370510e+05      12.000000      0.000000      0.000000   \n",
       "max       90.000000  1.484705e+06      16.000000  99999.000000   4356.000000   \n",
       "\n",
       "       hours-per-week  \n",
       "count    32561.000000  \n",
       "mean        40.437456  \n",
       "std         12.347429  \n",
       "min          1.000000  \n",
       "25%         40.000000  \n",
       "50%         40.000000  \n",
       "75%         45.000000  \n",
       "max         99.000000  "
      ]
     },
     "execution_count": 6,
     "metadata": {},
     "output_type": "execute_result"
    }
   ],
   "source": [
    "# some statistical values in numeric features\n",
    "emp_df.describe()"
   ]
  },
  {
   "cell_type": "markdown",
   "id": "289ff29d",
   "metadata": {
    "papermill": {
     "duration": 0.022538,
     "end_time": "2023-05-01T00:34:14.517131",
     "exception": false,
     "start_time": "2023-05-01T00:34:14.494593",
     "status": "completed"
    },
    "tags": []
   },
   "source": [
    "**Result:** <br />\n",
    "There are some wierd data distribution in features 'capital-gain' & 'capital-loss'. We will handle it later."
   ]
  },
  {
   "cell_type": "code",
   "execution_count": 7,
   "id": "5fce4cb2",
   "metadata": {
    "execution": {
     "iopub.execute_input": "2023-05-01T00:34:14.565292Z",
     "iopub.status.busy": "2023-05-01T00:34:14.564683Z",
     "iopub.status.idle": "2023-05-01T00:34:14.571906Z",
     "shell.execute_reply": "2023-05-01T00:34:14.571059Z"
    },
    "papermill": {
     "duration": 0.034041,
     "end_time": "2023-05-01T00:34:14.573959",
     "exception": false,
     "start_time": "2023-05-01T00:34:14.539918",
     "status": "completed"
    },
    "tags": []
   },
   "outputs": [
    {
     "data": {
      "text/plain": [
       "age                int64\n",
       "workclass         object\n",
       "fnlwgt             int64\n",
       "education         object\n",
       "education-num      int64\n",
       "marital-status    object\n",
       "occupation        object\n",
       "relationship      object\n",
       "race              object\n",
       "sex               object\n",
       "capital-gain       int64\n",
       "capital-loss       int64\n",
       "hours-per-week     int64\n",
       "native-country    object\n",
       "salary            object\n",
       "dtype: object"
      ]
     },
     "execution_count": 7,
     "metadata": {},
     "output_type": "execute_result"
    }
   ],
   "source": [
    "# look at the features' data types\n",
    "emp_df.dtypes"
   ]
  },
  {
   "cell_type": "markdown",
   "id": "d86f9a51",
   "metadata": {
    "papermill": {
     "duration": 0.022456,
     "end_time": "2023-05-01T00:34:14.619029",
     "exception": false,
     "start_time": "2023-05-01T00:34:14.596573",
     "status": "completed"
    },
    "tags": []
   },
   "source": [
    "**Result:**<br />\n",
    "There is no inappropriate data types"
   ]
  },
  {
   "cell_type": "code",
   "execution_count": 8,
   "id": "a71eef18",
   "metadata": {
    "execution": {
     "iopub.execute_input": "2023-05-01T00:34:14.665884Z",
     "iopub.status.busy": "2023-05-01T00:34:14.665285Z",
     "iopub.status.idle": "2023-05-01T00:34:14.673734Z",
     "shell.execute_reply": "2023-05-01T00:34:14.672814Z"
    },
    "papermill": {
     "duration": 0.034494,
     "end_time": "2023-05-01T00:34:14.676048",
     "exception": false,
     "start_time": "2023-05-01T00:34:14.641554",
     "status": "completed"
    },
    "tags": []
   },
   "outputs": [
    {
     "data": {
      "text/plain": [
       "Index(['age', 'fnlwgt', 'education-num', 'capital-gain', 'capital-loss',\n",
       "       'hours-per-week'],\n",
       "      dtype='object')"
      ]
     },
     "execution_count": 8,
     "metadata": {},
     "output_type": "execute_result"
    }
   ],
   "source": [
    "# data types exploratoin\n",
    "emp_df.select_dtypes(exclude=['object', 'category']).columns"
   ]
  },
  {
   "cell_type": "markdown",
   "id": "5dfd7455",
   "metadata": {
    "papermill": {
     "duration": 0.022707,
     "end_time": "2023-05-01T00:34:14.726446",
     "exception": false,
     "start_time": "2023-05-01T00:34:14.703739",
     "status": "completed"
    },
    "tags": []
   },
   "source": [
    "**Result:**<br />\n",
    "There are **6** features of type 'numeric' and **15-6 = 9** features of type 'object.'"
   ]
  },
  {
   "cell_type": "markdown",
   "id": "13d4e345",
   "metadata": {
    "papermill": {
     "duration": 0.022498,
     "end_time": "2023-05-01T00:34:14.771546",
     "exception": false,
     "start_time": "2023-05-01T00:34:14.749048",
     "status": "completed"
    },
    "tags": []
   },
   "source": [
    "---"
   ]
  },
  {
   "cell_type": "markdown",
   "id": "aa361bcc",
   "metadata": {
    "papermill": {
     "duration": 0.022175,
     "end_time": "2023-05-01T00:34:14.816191",
     "exception": false,
     "start_time": "2023-05-01T00:34:14.794016",
     "status": "completed"
    },
    "tags": []
   },
   "source": [
    "Now, let's look into each (categorical) feature one-by-one. <br />\n",
    "We will look for missing values, what are the values in the features and how the values are distributed.<br />\n",
    "**Note1**: We will not handle missing vlaues in this section, we will only detect them now but handle will handle them later.<br />\n",
    "**Note2**: We will look into some more details in Data Visualization part.\n"
   ]
  },
  {
   "cell_type": "code",
   "execution_count": 9,
   "id": "d8604f52",
   "metadata": {
    "execution": {
     "iopub.execute_input": "2023-05-01T00:34:14.863436Z",
     "iopub.status.busy": "2023-05-01T00:34:14.862521Z",
     "iopub.status.idle": "2023-05-01T00:34:14.871243Z",
     "shell.execute_reply": "2023-05-01T00:34:14.870521Z"
    },
    "papermill": {
     "duration": 0.034518,
     "end_time": "2023-05-01T00:34:14.873438",
     "exception": false,
     "start_time": "2023-05-01T00:34:14.838920",
     "status": "completed"
    },
    "tags": []
   },
   "outputs": [
    {
     "data": {
      "text/plain": [
       " Private             22696\n",
       " Self-emp-not-inc     2541\n",
       " Local-gov            2093\n",
       " ?                    1836\n",
       " State-gov            1298\n",
       " Self-emp-inc         1116\n",
       " Federal-gov           960\n",
       " Without-pay            14\n",
       " Never-worked            7\n",
       "Name: workclass, dtype: int64"
      ]
     },
     "execution_count": 9,
     "metadata": {},
     "output_type": "execute_result"
    }
   ],
   "source": [
    "emp_df['workclass'].value_counts()\n",
    "# emp_df['workclass'].unique()"
   ]
  },
  {
   "cell_type": "code",
   "execution_count": 10,
   "id": "68e84e50",
   "metadata": {
    "execution": {
     "iopub.execute_input": "2023-05-01T00:34:14.921637Z",
     "iopub.status.busy": "2023-05-01T00:34:14.921234Z",
     "iopub.status.idle": "2023-05-01T00:34:14.926645Z",
     "shell.execute_reply": "2023-05-01T00:34:14.925905Z"
    },
    "papermill": {
     "duration": 0.032049,
     "end_time": "2023-05-01T00:34:14.928822",
     "exception": false,
     "start_time": "2023-05-01T00:34:14.896773",
     "status": "completed"
    },
    "tags": []
   },
   "outputs": [],
   "source": [
    "# replace '?' by NaN\n",
    "emp_df['workclass'].replace(' ?', np.nan, inplace=True)"
   ]
  },
  {
   "cell_type": "code",
   "execution_count": 11,
   "id": "daef226e",
   "metadata": {
    "execution": {
     "iopub.execute_input": "2023-05-01T00:34:14.977468Z",
     "iopub.status.busy": "2023-05-01T00:34:14.976707Z",
     "iopub.status.idle": "2023-05-01T00:34:14.986599Z",
     "shell.execute_reply": "2023-05-01T00:34:14.985447Z"
    },
    "papermill": {
     "duration": 0.037067,
     "end_time": "2023-05-01T00:34:14.988818",
     "exception": false,
     "start_time": "2023-05-01T00:34:14.951751",
     "status": "completed"
    },
    "tags": []
   },
   "outputs": [
    {
     "data": {
      "text/plain": [
       " HS-grad         10501\n",
       " Some-college     7291\n",
       " Bachelors        5355\n",
       " Masters          1723\n",
       " Assoc-voc        1382\n",
       " 11th             1175\n",
       " Assoc-acdm       1067\n",
       " 10th              933\n",
       " 7th-8th           646\n",
       " Prof-school       576\n",
       " 9th               514\n",
       " 12th              433\n",
       " Doctorate         413\n",
       " 5th-6th           333\n",
       " 1st-4th           168\n",
       " Preschool          51\n",
       "Name: education, dtype: int64"
      ]
     },
     "execution_count": 11,
     "metadata": {},
     "output_type": "execute_result"
    }
   ],
   "source": [
    "emp_df['education'].value_counts()"
   ]
  },
  {
   "cell_type": "code",
   "execution_count": 12,
   "id": "c8d465a1",
   "metadata": {
    "execution": {
     "iopub.execute_input": "2023-05-01T00:34:15.037433Z",
     "iopub.status.busy": "2023-05-01T00:34:15.035987Z",
     "iopub.status.idle": "2023-05-01T00:34:15.047209Z",
     "shell.execute_reply": "2023-05-01T00:34:15.046107Z"
    },
    "papermill": {
     "duration": 0.037761,
     "end_time": "2023-05-01T00:34:15.049566",
     "exception": false,
     "start_time": "2023-05-01T00:34:15.011805",
     "status": "completed"
    },
    "tags": []
   },
   "outputs": [
    {
     "data": {
      "text/plain": [
       " Married-civ-spouse       14976\n",
       " Never-married            10683\n",
       " Divorced                  4443\n",
       " Separated                 1025\n",
       " Widowed                    993\n",
       " Married-spouse-absent      418\n",
       " Married-AF-spouse           23\n",
       "Name: marital-status, dtype: int64"
      ]
     },
     "execution_count": 12,
     "metadata": {},
     "output_type": "execute_result"
    }
   ],
   "source": [
    "emp_df['marital-status'].value_counts()"
   ]
  },
  {
   "cell_type": "code",
   "execution_count": 13,
   "id": "f91713c7",
   "metadata": {
    "execution": {
     "iopub.execute_input": "2023-05-01T00:34:15.098899Z",
     "iopub.status.busy": "2023-05-01T00:34:15.098498Z",
     "iopub.status.idle": "2023-05-01T00:34:15.107323Z",
     "shell.execute_reply": "2023-05-01T00:34:15.106598Z"
    },
    "papermill": {
     "duration": 0.036009,
     "end_time": "2023-05-01T00:34:15.109473",
     "exception": false,
     "start_time": "2023-05-01T00:34:15.073464",
     "status": "completed"
    },
    "tags": []
   },
   "outputs": [
    {
     "data": {
      "text/plain": [
       " Prof-specialty       4140\n",
       " Craft-repair         4099\n",
       " Exec-managerial      4066\n",
       " Adm-clerical         3770\n",
       " Sales                3650\n",
       " Other-service        3295\n",
       " Machine-op-inspct    2002\n",
       " ?                    1843\n",
       " Transport-moving     1597\n",
       " Handlers-cleaners    1370\n",
       " Farming-fishing       994\n",
       " Tech-support          928\n",
       " Protective-serv       649\n",
       " Priv-house-serv       149\n",
       " Armed-Forces            9\n",
       "Name: occupation, dtype: int64"
      ]
     },
     "execution_count": 13,
     "metadata": {},
     "output_type": "execute_result"
    }
   ],
   "source": [
    "emp_df['occupation'].value_counts()"
   ]
  },
  {
   "cell_type": "code",
   "execution_count": 14,
   "id": "bc3fd4ad",
   "metadata": {
    "execution": {
     "iopub.execute_input": "2023-05-01T00:34:15.157131Z",
     "iopub.status.busy": "2023-05-01T00:34:15.156745Z",
     "iopub.status.idle": "2023-05-01T00:34:15.163496Z",
     "shell.execute_reply": "2023-05-01T00:34:15.162221Z"
    },
    "papermill": {
     "duration": 0.033254,
     "end_time": "2023-05-01T00:34:15.165785",
     "exception": false,
     "start_time": "2023-05-01T00:34:15.132531",
     "status": "completed"
    },
    "tags": []
   },
   "outputs": [],
   "source": [
    "# replace ' ?' by Nan\n",
    "emp_df['occupation'].replace(' ?', np.nan, inplace=True)"
   ]
  },
  {
   "cell_type": "code",
   "execution_count": 15,
   "id": "57876d10",
   "metadata": {
    "execution": {
     "iopub.execute_input": "2023-05-01T00:34:15.214450Z",
     "iopub.status.busy": "2023-05-01T00:34:15.214024Z",
     "iopub.status.idle": "2023-05-01T00:34:15.224103Z",
     "shell.execute_reply": "2023-05-01T00:34:15.222973Z"
    },
    "papermill": {
     "duration": 0.036871,
     "end_time": "2023-05-01T00:34:15.226304",
     "exception": false,
     "start_time": "2023-05-01T00:34:15.189433",
     "status": "completed"
    },
    "tags": []
   },
   "outputs": [
    {
     "data": {
      "text/plain": [
       " Husband           13193\n",
       " Not-in-family      8305\n",
       " Own-child          5068\n",
       " Unmarried          3446\n",
       " Wife               1568\n",
       " Other-relative      981\n",
       "Name: relationship, dtype: int64"
      ]
     },
     "execution_count": 15,
     "metadata": {},
     "output_type": "execute_result"
    }
   ],
   "source": [
    "emp_df['relationship'].value_counts()"
   ]
  },
  {
   "cell_type": "code",
   "execution_count": 16,
   "id": "7811e6c7",
   "metadata": {
    "execution": {
     "iopub.execute_input": "2023-05-01T00:34:15.275611Z",
     "iopub.status.busy": "2023-05-01T00:34:15.275162Z",
     "iopub.status.idle": "2023-05-01T00:34:15.285715Z",
     "shell.execute_reply": "2023-05-01T00:34:15.284378Z"
    },
    "papermill": {
     "duration": 0.037596,
     "end_time": "2023-05-01T00:34:15.287884",
     "exception": false,
     "start_time": "2023-05-01T00:34:15.250288",
     "status": "completed"
    },
    "tags": []
   },
   "outputs": [
    {
     "data": {
      "text/plain": [
       " White                 27816\n",
       " Black                  3124\n",
       " Asian-Pac-Islander     1039\n",
       " Amer-Indian-Eskimo      311\n",
       " Other                   271\n",
       "Name: race, dtype: int64"
      ]
     },
     "execution_count": 16,
     "metadata": {},
     "output_type": "execute_result"
    }
   ],
   "source": [
    "emp_df['race'].value_counts()"
   ]
  },
  {
   "cell_type": "code",
   "execution_count": 17,
   "id": "2cdf5fc4",
   "metadata": {
    "execution": {
     "iopub.execute_input": "2023-05-01T00:34:15.336144Z",
     "iopub.status.busy": "2023-05-01T00:34:15.335736Z",
     "iopub.status.idle": "2023-05-01T00:34:15.346388Z",
     "shell.execute_reply": "2023-05-01T00:34:15.345096Z"
    },
    "papermill": {
     "duration": 0.037613,
     "end_time": "2023-05-01T00:34:15.348726",
     "exception": false,
     "start_time": "2023-05-01T00:34:15.311113",
     "status": "completed"
    },
    "tags": []
   },
   "outputs": [
    {
     "data": {
      "text/plain": [
       " Male      21790\n",
       " Female    10771\n",
       "Name: sex, dtype: int64"
      ]
     },
     "execution_count": 17,
     "metadata": {},
     "output_type": "execute_result"
    }
   ],
   "source": [
    "emp_df['sex'].value_counts()"
   ]
  },
  {
   "cell_type": "code",
   "execution_count": 18,
   "id": "672fdd62",
   "metadata": {
    "execution": {
     "iopub.execute_input": "2023-05-01T00:34:15.398295Z",
     "iopub.status.busy": "2023-05-01T00:34:15.397464Z",
     "iopub.status.idle": "2023-05-01T00:34:15.409091Z",
     "shell.execute_reply": "2023-05-01T00:34:15.408183Z"
    },
    "papermill": {
     "duration": 0.03906,
     "end_time": "2023-05-01T00:34:15.411383",
     "exception": false,
     "start_time": "2023-05-01T00:34:15.372323",
     "status": "completed"
    },
    "tags": []
   },
   "outputs": [
    {
     "data": {
      "text/plain": [
       "array([' United-States', ' Cuba', ' Jamaica', ' India', ' ?', ' Mexico',\n",
       "       ' South', ' Puerto-Rico', ' Honduras', ' England', ' Canada',\n",
       "       ' Germany', ' Iran', ' Philippines', ' Italy', ' Poland',\n",
       "       ' Columbia', ' Cambodia', ' Thailand', ' Ecuador', ' Laos',\n",
       "       ' Taiwan', ' Haiti', ' Portugal', ' Dominican-Republic',\n",
       "       ' El-Salvador', ' France', ' Guatemala', ' China', ' Japan',\n",
       "       ' Yugoslavia', ' Peru', ' Outlying-US(Guam-USVI-etc)', ' Scotland',\n",
       "       ' Trinadad&Tobago', ' Greece', ' Nicaragua', ' Vietnam', ' Hong',\n",
       "       ' Ireland', ' Hungary', ' Holand-Netherlands'], dtype=object)"
      ]
     },
     "execution_count": 18,
     "metadata": {},
     "output_type": "execute_result"
    }
   ],
   "source": [
    "emp_df['native-country'].unique()"
   ]
  },
  {
   "cell_type": "code",
   "execution_count": 19,
   "id": "3e9f1f8f",
   "metadata": {
    "execution": {
     "iopub.execute_input": "2023-05-01T00:34:15.460276Z",
     "iopub.status.busy": "2023-05-01T00:34:15.459894Z",
     "iopub.status.idle": "2023-05-01T00:34:15.466408Z",
     "shell.execute_reply": "2023-05-01T00:34:15.465437Z"
    },
    "papermill": {
     "duration": 0.033723,
     "end_time": "2023-05-01T00:34:15.468679",
     "exception": false,
     "start_time": "2023-05-01T00:34:15.434956",
     "status": "completed"
    },
    "tags": []
   },
   "outputs": [],
   "source": [
    "# replace ' ?' by NaN\n",
    "emp_df['native-country'].replace(' ?', np.nan, inplace=True)"
   ]
  },
  {
   "cell_type": "code",
   "execution_count": 20,
   "id": "78e5c582",
   "metadata": {
    "execution": {
     "iopub.execute_input": "2023-05-01T00:34:15.518325Z",
     "iopub.status.busy": "2023-05-01T00:34:15.517024Z",
     "iopub.status.idle": "2023-05-01T00:34:15.527385Z",
     "shell.execute_reply": "2023-05-01T00:34:15.526610Z"
    },
    "papermill": {
     "duration": 0.037608,
     "end_time": "2023-05-01T00:34:15.529749",
     "exception": false,
     "start_time": "2023-05-01T00:34:15.492141",
     "status": "completed"
    },
    "tags": []
   },
   "outputs": [
    {
     "data": {
      "text/plain": [
       " <=50K    24720\n",
       " >50K      7841\n",
       "Name: salary, dtype: int64"
      ]
     },
     "execution_count": 20,
     "metadata": {},
     "output_type": "execute_result"
    }
   ],
   "source": [
    "emp_df['salary'].value_counts()"
   ]
  },
  {
   "cell_type": "markdown",
   "id": "03a234cd",
   "metadata": {
    "papermill": {
     "duration": 0.023381,
     "end_time": "2023-05-01T00:34:15.577272",
     "exception": false,
     "start_time": "2023-05-01T00:34:15.553891",
     "status": "completed"
    },
    "tags": []
   },
   "source": [
    "<h2 style='text-align: center; background: gold; padding: 20px; border: 2px solid black'>\n",
    "    Handling missing values\n",
    "</h2>"
   ]
  },
  {
   "cell_type": "code",
   "execution_count": 21,
   "id": "b6d3c4a8",
   "metadata": {
    "execution": {
     "iopub.execute_input": "2023-05-01T00:34:15.626724Z",
     "iopub.status.busy": "2023-05-01T00:34:15.626282Z",
     "iopub.status.idle": "2023-05-01T00:34:15.647374Z",
     "shell.execute_reply": "2023-05-01T00:34:15.646634Z"
    },
    "papermill": {
     "duration": 0.048703,
     "end_time": "2023-05-01T00:34:15.649587",
     "exception": false,
     "start_time": "2023-05-01T00:34:15.600884",
     "status": "completed"
    },
    "tags": []
   },
   "outputs": [
    {
     "data": {
      "text/plain": [
       "age                  0\n",
       "workclass         1836\n",
       "fnlwgt               0\n",
       "education            0\n",
       "education-num        0\n",
       "marital-status       0\n",
       "occupation        1843\n",
       "relationship         0\n",
       "race                 0\n",
       "sex                  0\n",
       "capital-gain         0\n",
       "capital-loss         0\n",
       "hours-per-week       0\n",
       "native-country     583\n",
       "salary               0\n",
       "dtype: int64"
      ]
     },
     "execution_count": 21,
     "metadata": {},
     "output_type": "execute_result"
    }
   ],
   "source": [
    "emp_df.isnull().sum()"
   ]
  },
  {
   "cell_type": "code",
   "execution_count": 22,
   "id": "17f4502e",
   "metadata": {
    "execution": {
     "iopub.execute_input": "2023-05-01T00:34:15.699784Z",
     "iopub.status.busy": "2023-05-01T00:34:15.699004Z",
     "iopub.status.idle": "2023-05-01T00:34:15.720549Z",
     "shell.execute_reply": "2023-05-01T00:34:15.719425Z"
    },
    "papermill": {
     "duration": 0.048977,
     "end_time": "2023-05-01T00:34:15.722731",
     "exception": false,
     "start_time": "2023-05-01T00:34:15.673754",
     "status": "completed"
    },
    "tags": []
   },
   "outputs": [
    {
     "data": {
      "text/html": [
       "<div>\n",
       "<style scoped>\n",
       "    .dataframe tbody tr th:only-of-type {\n",
       "        vertical-align: middle;\n",
       "    }\n",
       "\n",
       "    .dataframe tbody tr th {\n",
       "        vertical-align: top;\n",
       "    }\n",
       "\n",
       "    .dataframe thead th {\n",
       "        text-align: right;\n",
       "    }\n",
       "</style>\n",
       "<table border=\"1\" class=\"dataframe\">\n",
       "  <thead>\n",
       "    <tr style=\"text-align: right;\">\n",
       "      <th></th>\n",
       "      <th>age</th>\n",
       "      <th>workclass</th>\n",
       "      <th>fnlwgt</th>\n",
       "      <th>education</th>\n",
       "      <th>education-num</th>\n",
       "      <th>marital-status</th>\n",
       "      <th>occupation</th>\n",
       "      <th>relationship</th>\n",
       "      <th>race</th>\n",
       "      <th>sex</th>\n",
       "      <th>capital-gain</th>\n",
       "      <th>capital-loss</th>\n",
       "      <th>hours-per-week</th>\n",
       "      <th>native-country</th>\n",
       "      <th>salary</th>\n",
       "    </tr>\n",
       "  </thead>\n",
       "  <tbody>\n",
       "    <tr>\n",
       "      <th>27</th>\n",
       "      <td>54</td>\n",
       "      <td>NaN</td>\n",
       "      <td>180211</td>\n",
       "      <td>Some-college</td>\n",
       "      <td>10</td>\n",
       "      <td>Married-civ-spouse</td>\n",
       "      <td>NaN</td>\n",
       "      <td>Husband</td>\n",
       "      <td>Asian-Pac-Islander</td>\n",
       "      <td>Male</td>\n",
       "      <td>0</td>\n",
       "      <td>0</td>\n",
       "      <td>60</td>\n",
       "      <td>South</td>\n",
       "      <td>&gt;50K</td>\n",
       "    </tr>\n",
       "    <tr>\n",
       "      <th>61</th>\n",
       "      <td>32</td>\n",
       "      <td>NaN</td>\n",
       "      <td>293936</td>\n",
       "      <td>7th-8th</td>\n",
       "      <td>4</td>\n",
       "      <td>Married-spouse-absent</td>\n",
       "      <td>NaN</td>\n",
       "      <td>Not-in-family</td>\n",
       "      <td>White</td>\n",
       "      <td>Male</td>\n",
       "      <td>0</td>\n",
       "      <td>0</td>\n",
       "      <td>40</td>\n",
       "      <td>NaN</td>\n",
       "      <td>&lt;=50K</td>\n",
       "    </tr>\n",
       "    <tr>\n",
       "      <th>69</th>\n",
       "      <td>25</td>\n",
       "      <td>NaN</td>\n",
       "      <td>200681</td>\n",
       "      <td>Some-college</td>\n",
       "      <td>10</td>\n",
       "      <td>Never-married</td>\n",
       "      <td>NaN</td>\n",
       "      <td>Own-child</td>\n",
       "      <td>White</td>\n",
       "      <td>Male</td>\n",
       "      <td>0</td>\n",
       "      <td>0</td>\n",
       "      <td>40</td>\n",
       "      <td>United-States</td>\n",
       "      <td>&lt;=50K</td>\n",
       "    </tr>\n",
       "    <tr>\n",
       "      <th>77</th>\n",
       "      <td>67</td>\n",
       "      <td>NaN</td>\n",
       "      <td>212759</td>\n",
       "      <td>10th</td>\n",
       "      <td>6</td>\n",
       "      <td>Married-civ-spouse</td>\n",
       "      <td>NaN</td>\n",
       "      <td>Husband</td>\n",
       "      <td>White</td>\n",
       "      <td>Male</td>\n",
       "      <td>0</td>\n",
       "      <td>0</td>\n",
       "      <td>2</td>\n",
       "      <td>United-States</td>\n",
       "      <td>&lt;=50K</td>\n",
       "    </tr>\n",
       "    <tr>\n",
       "      <th>106</th>\n",
       "      <td>17</td>\n",
       "      <td>NaN</td>\n",
       "      <td>304873</td>\n",
       "      <td>10th</td>\n",
       "      <td>6</td>\n",
       "      <td>Never-married</td>\n",
       "      <td>NaN</td>\n",
       "      <td>Own-child</td>\n",
       "      <td>White</td>\n",
       "      <td>Female</td>\n",
       "      <td>34095</td>\n",
       "      <td>0</td>\n",
       "      <td>32</td>\n",
       "      <td>United-States</td>\n",
       "      <td>&lt;=50K</td>\n",
       "    </tr>\n",
       "  </tbody>\n",
       "</table>\n",
       "</div>"
      ],
      "text/plain": [
       "     age workclass  fnlwgt      education  education-num  \\\n",
       "27    54       NaN  180211   Some-college             10   \n",
       "61    32       NaN  293936        7th-8th              4   \n",
       "69    25       NaN  200681   Some-college             10   \n",
       "77    67       NaN  212759           10th              6   \n",
       "106   17       NaN  304873           10th              6   \n",
       "\n",
       "             marital-status occupation    relationship                 race  \\\n",
       "27       Married-civ-spouse        NaN         Husband   Asian-Pac-Islander   \n",
       "61    Married-spouse-absent        NaN   Not-in-family                White   \n",
       "69            Never-married        NaN       Own-child                White   \n",
       "77       Married-civ-spouse        NaN         Husband                White   \n",
       "106           Never-married        NaN       Own-child                White   \n",
       "\n",
       "         sex  capital-gain  capital-loss  hours-per-week  native-country  \\\n",
       "27      Male             0             0              60           South   \n",
       "61      Male             0             0              40             NaN   \n",
       "69      Male             0             0              40   United-States   \n",
       "77      Male             0             0               2   United-States   \n",
       "106   Female         34095             0              32   United-States   \n",
       "\n",
       "     salary  \n",
       "27     >50K  \n",
       "61    <=50K  \n",
       "69    <=50K  \n",
       "77    <=50K  \n",
       "106   <=50K  "
      ]
     },
     "execution_count": 22,
     "metadata": {},
     "output_type": "execute_result"
    }
   ],
   "source": [
    "# display the rows where 'workclass' is NaN\n",
    "rows_with_workclass_na = emp_df[emp_df['workclass'].isnull()]\n",
    "rows_with_workclass_na.head()"
   ]
  },
  {
   "cell_type": "markdown",
   "id": "ad4a7999",
   "metadata": {
    "papermill": {
     "duration": 0.024326,
     "end_time": "2023-05-01T00:34:15.771876",
     "exception": false,
     "start_time": "2023-05-01T00:34:15.747550",
     "status": "completed"
    },
    "tags": []
   },
   "source": [
    "**Result:** <br />\n",
    "From the above table we can see that wherever the 'workclass' feature missing, the 'occupation' feature is also missing. Hence, 'occupation' is missing at random.<br />\n",
    "So, here is how we deal with it:<br />\n",
    "We will fill 'workclass' NaN values by its mode (most frequent), and then we will fill the 'occupation' missing values by the value which has the highest frequeny with 'workclass' being the mode.\n"
   ]
  },
  {
   "cell_type": "code",
   "execution_count": 23,
   "id": "4b45f3bb",
   "metadata": {
    "execution": {
     "iopub.execute_input": "2023-05-01T00:34:15.821885Z",
     "iopub.status.busy": "2023-05-01T00:34:15.821480Z",
     "iopub.status.idle": "2023-05-01T00:34:15.831708Z",
     "shell.execute_reply": "2023-05-01T00:34:15.830642Z"
    },
    "papermill": {
     "duration": 0.037975,
     "end_time": "2023-05-01T00:34:15.834116",
     "exception": false,
     "start_time": "2023-05-01T00:34:15.796141",
     "status": "completed"
    },
    "tags": []
   },
   "outputs": [
    {
     "data": {
      "text/plain": [
       "0     Private\n",
       "Name: workclass, dtype: object"
      ]
     },
     "execution_count": 23,
     "metadata": {},
     "output_type": "execute_result"
    }
   ],
   "source": [
    "emp_df['workclass'].mode()"
   ]
  },
  {
   "cell_type": "code",
   "execution_count": 24,
   "id": "c0c3acc2",
   "metadata": {
    "execution": {
     "iopub.execute_input": "2023-05-01T00:34:15.884885Z",
     "iopub.status.busy": "2023-05-01T00:34:15.884494Z",
     "iopub.status.idle": "2023-05-01T00:34:15.897469Z",
     "shell.execute_reply": "2023-05-01T00:34:15.896324Z"
    },
    "papermill": {
     "duration": 0.041206,
     "end_time": "2023-05-01T00:34:15.899796",
     "exception": false,
     "start_time": "2023-05-01T00:34:15.858590",
     "status": "completed"
    },
    "tags": []
   },
   "outputs": [
    {
     "data": {
      "text/plain": [
       "0     Craft-repair\n",
       "Name: occupation, dtype: object"
      ]
     },
     "execution_count": 24,
     "metadata": {},
     "output_type": "execute_result"
    }
   ],
   "source": [
    "# occupations where 'workclass' is ' Private'\n",
    "temp = emp_df['occupation'][emp_df['workclass']==' Private']\n",
    "\n",
    "temp.mode()"
   ]
  },
  {
   "cell_type": "markdown",
   "id": "e0e8c27f",
   "metadata": {
    "papermill": {
     "duration": 0.023914,
     "end_time": "2023-05-01T00:34:15.948453",
     "exception": false,
     "start_time": "2023-05-01T00:34:15.924539",
     "status": "completed"
    },
    "tags": []
   },
   "source": [
    "**Result:** <br />\n",
    "We will fill 'workclass' missing values with ' Private' and 'occupation' missing values with ' Craft-repair' "
   ]
  },
  {
   "cell_type": "code",
   "execution_count": 25,
   "id": "a507945a",
   "metadata": {
    "execution": {
     "iopub.execute_input": "2023-05-01T00:34:15.999273Z",
     "iopub.status.busy": "2023-05-01T00:34:15.998869Z",
     "iopub.status.idle": "2023-05-01T00:34:16.013065Z",
     "shell.execute_reply": "2023-05-01T00:34:16.011689Z"
    },
    "papermill": {
     "duration": 0.042635,
     "end_time": "2023-05-01T00:34:16.015554",
     "exception": false,
     "start_time": "2023-05-01T00:34:15.972919",
     "status": "completed"
    },
    "tags": []
   },
   "outputs": [
    {
     "data": {
      "text/plain": [
       "0"
      ]
     },
     "execution_count": 25,
     "metadata": {},
     "output_type": "execute_result"
    }
   ],
   "source": [
    "emp_df['workclass'].fillna(emp_df['workclass'].mode()[0], inplace=True)\n",
    "emp_df['workclass'].isnull().sum()"
   ]
  },
  {
   "cell_type": "code",
   "execution_count": 26,
   "id": "39be0c5e",
   "metadata": {
    "execution": {
     "iopub.execute_input": "2023-05-01T00:34:16.067662Z",
     "iopub.status.busy": "2023-05-01T00:34:16.066503Z",
     "iopub.status.idle": "2023-05-01T00:34:16.079018Z",
     "shell.execute_reply": "2023-05-01T00:34:16.078004Z"
    },
    "papermill": {
     "duration": 0.04137,
     "end_time": "2023-05-01T00:34:16.081591",
     "exception": false,
     "start_time": "2023-05-01T00:34:16.040221",
     "status": "completed"
    },
    "tags": []
   },
   "outputs": [
    {
     "data": {
      "text/plain": [
       "0"
      ]
     },
     "execution_count": 26,
     "metadata": {},
     "output_type": "execute_result"
    }
   ],
   "source": [
    "emp_df['occupation'].fillna(' Craft-repair', inplace=True)\n",
    "emp_df['occupation'].isnull().sum()"
   ]
  },
  {
   "cell_type": "code",
   "execution_count": 27,
   "id": "1a94096c",
   "metadata": {
    "execution": {
     "iopub.execute_input": "2023-05-01T00:34:16.133412Z",
     "iopub.status.busy": "2023-05-01T00:34:16.132972Z",
     "iopub.status.idle": "2023-05-01T00:34:16.146354Z",
     "shell.execute_reply": "2023-05-01T00:34:16.145389Z"
    },
    "papermill": {
     "duration": 0.041808,
     "end_time": "2023-05-01T00:34:16.148503",
     "exception": false,
     "start_time": "2023-05-01T00:34:16.106695",
     "status": "completed"
    },
    "tags": []
   },
   "outputs": [
    {
     "data": {
      "text/plain": [
       "0"
      ]
     },
     "execution_count": 27,
     "metadata": {},
     "output_type": "execute_result"
    }
   ],
   "source": [
    "emp_df['native-country'].fillna(emp_df['native-country'].mode()[0], inplace=True)\n",
    "emp_df['native-country'].isnull().sum()"
   ]
  },
  {
   "cell_type": "code",
   "execution_count": 28,
   "id": "f503d431",
   "metadata": {
    "execution": {
     "iopub.execute_input": "2023-05-01T00:34:16.200668Z",
     "iopub.status.busy": "2023-05-01T00:34:16.200226Z",
     "iopub.status.idle": "2023-05-01T00:34:16.221937Z",
     "shell.execute_reply": "2023-05-01T00:34:16.220783Z"
    },
    "papermill": {
     "duration": 0.050988,
     "end_time": "2023-05-01T00:34:16.224174",
     "exception": false,
     "start_time": "2023-05-01T00:34:16.173186",
     "status": "completed"
    },
    "tags": []
   },
   "outputs": [
    {
     "data": {
      "text/plain": [
       "0"
      ]
     },
     "execution_count": 28,
     "metadata": {},
     "output_type": "execute_result"
    }
   ],
   "source": [
    "emp_df.isnull().sum().sum()"
   ]
  },
  {
   "cell_type": "markdown",
   "id": "b6921b11",
   "metadata": {
    "papermill": {
     "duration": 0.024999,
     "end_time": "2023-05-01T00:34:16.323662",
     "exception": false,
     "start_time": "2023-05-01T00:34:16.298663",
     "status": "completed"
    },
    "tags": []
   },
   "source": [
    "<h2 style='text-align: center; background: gold; padding: 20px; border: 2px solid black'>\n",
    "   Exploratory Data Analysis (EDA)\n",
    "</h2>"
   ]
  },
  {
   "cell_type": "markdown",
   "id": "534206a5",
   "metadata": {
    "papermill": {
     "duration": 0.024395,
     "end_time": "2023-05-01T00:34:16.373279",
     "exception": false,
     "start_time": "2023-05-01T00:34:16.348884",
     "status": "completed"
    },
    "tags": []
   },
   "source": [
    "First we will do some data visualizations, and then we will get some highly useful [tabular] info using `pd.crosstab()`. **Don't miss that part.**"
   ]
  },
  {
   "cell_type": "code",
   "execution_count": 29,
   "id": "0df0bdb9",
   "metadata": {
    "execution": {
     "iopub.execute_input": "2023-05-01T00:34:16.425524Z",
     "iopub.status.busy": "2023-05-01T00:34:16.424865Z",
     "iopub.status.idle": "2023-05-01T00:34:16.669586Z",
     "shell.execute_reply": "2023-05-01T00:34:16.668253Z"
    },
    "papermill": {
     "duration": 0.273642,
     "end_time": "2023-05-01T00:34:16.672089",
     "exception": false,
     "start_time": "2023-05-01T00:34:16.398447",
     "status": "completed"
    },
    "tags": []
   },
   "outputs": [
    {
     "data": {
      "text/plain": [
       "Text(0.5, 1.0, 'Salary Distribution')"
      ]
     },
     "execution_count": 29,
     "metadata": {},
     "output_type": "execute_result"
    },
    {
     "data": {
      "image/png": "[encoded data removed]",
      "text/plain": [
       "<Figure size 640x480 with 1 Axes>"
      ]
     },
     "metadata": {},
     "output_type": "display_data"
    }
   ],
   "source": [
    "# How the target variable is distributed\n",
    "#ax = sns.countplot(emp_df['salary'], hue=emp_df['sex'])\n",
    "#ax.set_title('Salary Distribution')\n",
    "\n",
    "ax = sns.countplot(x='salary', hue='sex', data=emp_df)\n",
    "ax.set_title('Salary Distribution')"
   ]
  },
  {
   "cell_type": "code",
   "execution_count": 30,
   "id": "eb316a95",
   "metadata": {
    "execution": {
     "iopub.execute_input": "2023-05-01T00:34:16.724115Z",
     "iopub.status.busy": "2023-05-01T00:34:16.723473Z",
     "iopub.status.idle": "2023-05-01T00:34:16.730159Z",
     "shell.execute_reply": "2023-05-01T00:34:16.728921Z"
    },
    "papermill": {
     "duration": 0.035102,
     "end_time": "2023-05-01T00:34:16.732253",
     "exception": false,
     "start_time": "2023-05-01T00:34:16.697151",
     "status": "completed"
    },
    "tags": []
   },
   "outputs": [],
   "source": [
    "def draw_boxen_plot(feature, hue=None):\n",
    "    fig = plt.figure(figsize=(6, 5))\n",
    "    ax = fig.gca()\n",
    "    sns.boxenplot(data=emp_df, x='salary', y=feature, ax=ax, hue=hue)\n",
    "    sns.set_style('whitegrid')\n",
    "    ax.set_title('Salary VS '+feature.title())"
   ]
  },
  {
   "cell_type": "code",
   "execution_count": 31,
   "id": "eb0e9707",
   "metadata": {
    "execution": {
     "iopub.execute_input": "2023-05-01T00:34:16.784684Z",
     "iopub.status.busy": "2023-05-01T00:34:16.783596Z",
     "iopub.status.idle": "2023-05-01T00:34:17.045080Z",
     "shell.execute_reply": "2023-05-01T00:34:17.044246Z"
    },
    "papermill": {
     "duration": 0.289786,
     "end_time": "2023-05-01T00:34:17.047140",
     "exception": false,
     "start_time": "2023-05-01T00:34:16.757354",
     "status": "completed"
    },
    "tags": []
   },
   "outputs": [
    {
     "data": {
      "image/png": "[encoded data removed]",
      "text/plain": [
       "<Figure size 600x500 with 1 Axes>"
      ]
     },
     "metadata": {},
     "output_type": "display_data"
    }
   ],
   "source": [
    "# Salary VS Age\n",
    "draw_boxen_plot('age', 'sex')"
   ]
  },
  {
   "cell_type": "markdown",
   "id": "9128804d",
   "metadata": {
    "papermill": {
     "duration": 0.025326,
     "end_time": "2023-05-01T00:34:17.098053",
     "exception": false,
     "start_time": "2023-05-01T00:34:17.072727",
     "status": "completed"
    },
    "tags": []
   },
   "source": [
    "**Result:** <br />\n",
    "Most of employees bellow 35 have lower income, and 46-50 have higher income. and some more..."
   ]
  },
  {
   "cell_type": "code",
   "execution_count": 32,
   "id": "871173ec",
   "metadata": {
    "execution": {
     "iopub.execute_input": "2023-05-01T00:34:17.151973Z",
     "iopub.status.busy": "2023-05-01T00:34:17.151009Z",
     "iopub.status.idle": "2023-05-01T00:34:17.334436Z",
     "shell.execute_reply": "2023-05-01T00:34:17.332836Z"
    },
    "papermill": {
     "duration": 0.2148,
     "end_time": "2023-05-01T00:34:17.338662",
     "exception": false,
     "start_time": "2023-05-01T00:34:17.123862",
     "status": "completed"
    },
    "tags": []
   },
   "outputs": [
    {
     "data": {
      "image/png": "[encoded data removed]",
      "text/plain": [
       "<Figure size 600x500 with 1 Axes>"
      ]
     },
     "metadata": {},
     "output_type": "display_data"
    }
   ],
   "source": [
    "# hours-per-week VS Salary\n",
    "draw_boxen_plot('hours-per-week')"
   ]
  },
  {
   "cell_type": "markdown",
   "id": "582364fa",
   "metadata": {
    "papermill": {
     "duration": 0.025564,
     "end_time": "2023-05-01T00:34:17.392231",
     "exception": false,
     "start_time": "2023-05-01T00:34:17.366667",
     "status": "completed"
    },
    "tags": []
   },
   "source": [
    "**Result:** <br />\n",
    "Employees who work over 40 hours per week are paid more than those who work bellow 40 hours per week. Or most of employees who have >=50k income work over 40 hours weekly."
   ]
  },
  {
   "cell_type": "code",
   "execution_count": 33,
   "id": "ec5dcdde",
   "metadata": {
    "execution": {
     "iopub.execute_input": "2023-05-01T00:34:17.446700Z",
     "iopub.status.busy": "2023-05-01T00:34:17.445955Z",
     "iopub.status.idle": "2023-05-01T00:34:17.736894Z",
     "shell.execute_reply": "2023-05-01T00:34:17.736060Z"
    },
    "papermill": {
     "duration": 0.320651,
     "end_time": "2023-05-01T00:34:17.738987",
     "exception": false,
     "start_time": "2023-05-01T00:34:17.418336",
     "status": "completed"
    },
    "tags": []
   },
   "outputs": [
    {
     "data": {
      "text/plain": [
       "Text(0.5, 1.0, 'Sex VS Salary')"
      ]
     },
     "execution_count": 33,
     "metadata": {},
     "output_type": "execute_result"
    },
    {
     "data": {
      "image/png": "[encoded data removed]",
      "text/plain": [
       "<Figure size 1000x600 with 1 Axes>"
      ]
     },
     "metadata": {},
     "output_type": "display_data"
    }
   ],
   "source": [
    "# Sex VS Salary\n",
    "fig = plt.figure(figsize=(10, 6))\n",
    "ax = sns.countplot(data=emp_df,x='salary', hue='sex')\n",
    "ax.set_title('Sex VS Salary')"
   ]
  },
  {
   "cell_type": "markdown",
   "id": "465f9ab9",
   "metadata": {
    "papermill": {
     "duration": 0.025953,
     "end_time": "2023-05-01T00:34:17.792004",
     "exception": false,
     "start_time": "2023-05-01T00:34:17.766051",
     "status": "completed"
    },
    "tags": []
   },
   "source": [
    "**Result:** <br />\n",
    "There are very few women having an income of greater than 50k in comparison with men."
   ]
  },
  {
   "cell_type": "code",
   "execution_count": 34,
   "id": "d84bdc29",
   "metadata": {
    "execution": {
     "iopub.execute_input": "2023-05-01T00:34:17.846582Z",
     "iopub.status.busy": "2023-05-01T00:34:17.845914Z",
     "iopub.status.idle": "2023-05-01T00:34:18.265188Z",
     "shell.execute_reply": "2023-05-01T00:34:18.264025Z"
    },
    "papermill": {
     "duration": 0.449253,
     "end_time": "2023-05-01T00:34:18.267523",
     "exception": false,
     "start_time": "2023-05-01T00:34:17.818270",
     "status": "completed"
    },
    "tags": []
   },
   "outputs": [
    {
     "data": {
      "text/plain": [
       "Text(0.5, 1.0, 'Workclass VS Salary')"
      ]
     },
     "execution_count": 34,
     "metadata": {},
     "output_type": "execute_result"
    },
    {
     "data": {
      "image/png": "[encoded data removed]",
      "text/plain": [
       "<Figure size 1000x600 with 1 Axes>"
      ]
     },
     "metadata": {},
     "output_type": "display_data"
    }
   ],
   "source": [
    "fig = plt.figure(figsize=(10, 6))\n",
    "ax = sns.countplot(data=emp_df,y='workclass', hue='salary')\n",
    "ax.set_title('Workclass VS Salary')"
   ]
  },
  {
   "cell_type": "markdown",
   "id": "d5f4e4b6",
   "metadata": {
    "papermill": {
     "duration": 0.026674,
     "end_time": "2023-05-01T00:34:18.321222",
     "exception": false,
     "start_time": "2023-05-01T00:34:18.294548",
     "status": "completed"
    },
    "tags": []
   },
   "source": [
    "**Result:**<br />\n",
    "Only in *Self-emp-inc* the number of >=50k income is higher than <50k income.\n"
   ]
  },
  {
   "cell_type": "code",
   "execution_count": 35,
   "id": "d6d8d4d7",
   "metadata": {
    "execution": {
     "iopub.execute_input": "2023-05-01T00:34:18.376935Z",
     "iopub.status.busy": "2023-05-01T00:34:18.376248Z",
     "iopub.status.idle": "2023-05-01T00:34:18.713935Z",
     "shell.execute_reply": "2023-05-01T00:34:18.712757Z"
    },
    "papermill": {
     "duration": 0.368233,
     "end_time": "2023-05-01T00:34:18.716304",
     "exception": false,
     "start_time": "2023-05-01T00:34:18.348071",
     "status": "completed"
    },
    "tags": []
   },
   "outputs": [
    {
     "data": {
      "image/png": "[encoded data removed]",
      "text/plain": [
       "<Figure size 600x500 with 1 Axes>"
      ]
     },
     "metadata": {},
     "output_type": "display_data"
    }
   ],
   "source": [
    "draw_boxen_plot('fnlwgt', 'sex')"
   ]
  },
  {
   "cell_type": "markdown",
   "id": "ae9902a2",
   "metadata": {
    "papermill": {
     "duration": 0.026737,
     "end_time": "2023-05-01T00:34:18.770542",
     "exception": false,
     "start_time": "2023-05-01T00:34:18.743805",
     "status": "completed"
    },
    "tags": []
   },
   "source": [
    "**Result:** <br />\n",
    "Many outliers are detected. In addition, it doesn't seem to be a significant feature. (We will consider removing it.)"
   ]
  },
  {
   "cell_type": "code",
   "execution_count": 36,
   "id": "a2ad3d30",
   "metadata": {
    "execution": {
     "iopub.execute_input": "2023-05-01T00:34:18.827137Z",
     "iopub.status.busy": "2023-05-01T00:34:18.826458Z",
     "iopub.status.idle": "2023-05-01T00:34:19.319556Z",
     "shell.execute_reply": "2023-05-01T00:34:19.318768Z"
    },
    "papermill": {
     "duration": 0.52469,
     "end_time": "2023-05-01T00:34:19.322015",
     "exception": false,
     "start_time": "2023-05-01T00:34:18.797325",
     "status": "completed"
    },
    "tags": []
   },
   "outputs": [
    {
     "data": {
      "text/plain": [
       "Text(0.5, 1.0, 'Education VS Salary')"
      ]
     },
     "execution_count": 36,
     "metadata": {},
     "output_type": "execute_result"
    },
    {
     "data": {
      "image/png": "[encoded data removed]",
      "text/plain": [
       "<Figure size 1500x800 with 1 Axes>"
      ]
     },
     "metadata": {},
     "output_type": "display_data"
    }
   ],
   "source": [
    "plt.figure(figsize=(15, 8))\n",
    "ax = sns.countplot(data=emp_df,y='education', hue='salary')\n",
    "ax.set_title('Education VS Salary')"
   ]
  },
  {
   "cell_type": "markdown",
   "id": "4e6b99ed",
   "metadata": {
    "papermill": {
     "duration": 0.027221,
     "end_time": "2023-05-01T00:34:19.377680",
     "exception": false,
     "start_time": "2023-05-01T00:34:19.350459",
     "status": "completed"
    },
    "tags": []
   },
   "source": [
    "**Result:**<br />\n",
    "Most of employees who are in masters, doctorate or prof-shcool categories have higher income. (>=50k)<br />\n",
    "Most of HS-grads have an income of <50k, and many more... "
   ]
  },
  {
   "cell_type": "code",
   "execution_count": 37,
   "id": "f67e740b",
   "metadata": {
    "execution": {
     "iopub.execute_input": "2023-05-01T00:34:19.435854Z",
     "iopub.status.busy": "2023-05-01T00:34:19.434736Z",
     "iopub.status.idle": "2023-05-01T00:34:19.836692Z",
     "shell.execute_reply": "2023-05-01T00:34:19.835679Z"
    },
    "papermill": {
     "duration": 0.433405,
     "end_time": "2023-05-01T00:34:19.839140",
     "exception": false,
     "start_time": "2023-05-01T00:34:19.405735",
     "status": "completed"
    },
    "tags": []
   },
   "outputs": [
    {
     "data": {
      "text/plain": [
       "Text(0.5, 1.0, 'Race VS Salary')"
      ]
     },
     "execution_count": 37,
     "metadata": {},
     "output_type": "execute_result"
    },
    {
     "data": {
      "image/png": "[encoded data removed]",
      "text/plain": [
       "<Figure size 1500x800 with 1 Axes>"
      ]
     },
     "metadata": {},
     "output_type": "display_data"
    }
   ],
   "source": [
    "plt.figure(figsize=(15, 8))\n",
    "ax = sns.countplot(data=emp_df,y='race', hue='salary')\n",
    "sns.set_palette('Accent_r')\n",
    "ax.set_title('Race VS Salary')"
   ]
  },
  {
   "cell_type": "code",
   "execution_count": 38,
   "id": "459a4366",
   "metadata": {
    "execution": {
     "iopub.execute_input": "2023-05-01T00:34:19.899167Z",
     "iopub.status.busy": "2023-05-01T00:34:19.898015Z",
     "iopub.status.idle": "2023-05-01T00:34:19.917265Z",
     "shell.execute_reply": "2023-05-01T00:34:19.916167Z"
    },
    "papermill": {
     "duration": 0.051377,
     "end_time": "2023-05-01T00:34:19.919479",
     "exception": false,
     "start_time": "2023-05-01T00:34:19.868102",
     "status": "completed"
    },
    "tags": []
   },
   "outputs": [
    {
     "data": {
      "text/html": [
       "<div>\n",
       "<style scoped>\n",
       "    .dataframe tbody tr th:only-of-type {\n",
       "        vertical-align: middle;\n",
       "    }\n",
       "\n",
       "    .dataframe tbody tr th {\n",
       "        vertical-align: top;\n",
       "    }\n",
       "\n",
       "    .dataframe thead th {\n",
       "        text-align: right;\n",
       "    }\n",
       "</style>\n",
       "<table border=\"1\" class=\"dataframe\">\n",
       "  <thead>\n",
       "    <tr style=\"text-align: right;\">\n",
       "      <th></th>\n",
       "      <th>age</th>\n",
       "      <th>fnlwgt</th>\n",
       "      <th>education-num</th>\n",
       "      <th>capital-gain</th>\n",
       "      <th>capital-loss</th>\n",
       "      <th>hours-per-week</th>\n",
       "    </tr>\n",
       "  </thead>\n",
       "  <tbody>\n",
       "    <tr>\n",
       "      <th>age</th>\n",
       "      <td>1.000000</td>\n",
       "      <td>-0.076646</td>\n",
       "      <td>0.036527</td>\n",
       "      <td>0.077674</td>\n",
       "      <td>0.057775</td>\n",
       "      <td>0.068756</td>\n",
       "    </tr>\n",
       "    <tr>\n",
       "      <th>fnlwgt</th>\n",
       "      <td>-0.076646</td>\n",
       "      <td>1.000000</td>\n",
       "      <td>-0.043195</td>\n",
       "      <td>0.000432</td>\n",
       "      <td>-0.010252</td>\n",
       "      <td>-0.018768</td>\n",
       "    </tr>\n",
       "    <tr>\n",
       "      <th>education-num</th>\n",
       "      <td>0.036527</td>\n",
       "      <td>-0.043195</td>\n",
       "      <td>1.000000</td>\n",
       "      <td>0.122630</td>\n",
       "      <td>0.079923</td>\n",
       "      <td>0.148123</td>\n",
       "    </tr>\n",
       "    <tr>\n",
       "      <th>capital-gain</th>\n",
       "      <td>0.077674</td>\n",
       "      <td>0.000432</td>\n",
       "      <td>0.122630</td>\n",
       "      <td>1.000000</td>\n",
       "      <td>-0.031615</td>\n",
       "      <td>0.078409</td>\n",
       "    </tr>\n",
       "    <tr>\n",
       "      <th>capital-loss</th>\n",
       "      <td>0.057775</td>\n",
       "      <td>-0.010252</td>\n",
       "      <td>0.079923</td>\n",
       "      <td>-0.031615</td>\n",
       "      <td>1.000000</td>\n",
       "      <td>0.054256</td>\n",
       "    </tr>\n",
       "    <tr>\n",
       "      <th>hours-per-week</th>\n",
       "      <td>0.068756</td>\n",
       "      <td>-0.018768</td>\n",
       "      <td>0.148123</td>\n",
       "      <td>0.078409</td>\n",
       "      <td>0.054256</td>\n",
       "      <td>1.000000</td>\n",
       "    </tr>\n",
       "  </tbody>\n",
       "</table>\n",
       "</div>"
      ],
      "text/plain": [
       "                     age    fnlwgt  education-num  capital-gain  capital-loss  \\\n",
       "age             1.000000 -0.076646       0.036527      0.077674      0.057775   \n",
       "fnlwgt         -0.076646  1.000000      -0.043195      0.000432     -0.010252   \n",
       "education-num   0.036527 -0.043195       1.000000      0.122630      0.079923   \n",
       "capital-gain    0.077674  0.000432       0.122630      1.000000     -0.031615   \n",
       "capital-loss    0.057775 -0.010252       0.079923     -0.031615      1.000000   \n",
       "hours-per-week  0.068756 -0.018768       0.148123      0.078409      0.054256   \n",
       "\n",
       "                hours-per-week  \n",
       "age                   0.068756  \n",
       "fnlwgt               -0.018768  \n",
       "education-num         0.148123  \n",
       "capital-gain          0.078409  \n",
       "capital-loss          0.054256  \n",
       "hours-per-week        1.000000  "
      ]
     },
     "execution_count": 38,
     "metadata": {},
     "output_type": "execute_result"
    }
   ],
   "source": [
    "#emp_df.corr()\n",
    "emp_df.corr(numeric_only=True)"
   ]
  },
  {
   "cell_type": "code",
   "execution_count": 39,
   "id": "59cd07ab",
   "metadata": {
    "execution": {
     "iopub.execute_input": "2023-05-01T00:34:19.979528Z",
     "iopub.status.busy": "2023-05-01T00:34:19.978411Z",
     "iopub.status.idle": "2023-05-01T00:34:20.445390Z",
     "shell.execute_reply": "2023-05-01T00:34:20.444254Z"
    },
    "papermill": {
     "duration": 0.499675,
     "end_time": "2023-05-01T00:34:20.447834",
     "exception": false,
     "start_time": "2023-05-01T00:34:19.948159",
     "status": "completed"
    },
    "tags": []
   },
   "outputs": [
    {
     "data": {
      "text/plain": [
       "<Axes: >"
      ]
     },
     "execution_count": 39,
     "metadata": {},
     "output_type": "execute_result"
    },
    {
     "data": {
      "image/png": "[encoded data removed]",
      "text/plain": [
       "<Figure size 1000x600 with 2 Axes>"
      ]
     },
     "metadata": {},
     "output_type": "display_data"
    }
   ],
   "source": [
    "#plt.figure(figsize=(10, 6))\n",
    "#sns.heatmap(emp_df.corr(), annot=True, cmap='autumn_r')\n",
    "\n",
    "plt.figure(figsize=(10, 6))\n",
    "sns.heatmap(emp_df.corr(numeric_only=True), annot=True, cmap='autumn_r')"
   ]
  },
  {
   "cell_type": "markdown",
   "id": "2ae1eadc",
   "metadata": {
    "papermill": {
     "duration": 0.0292,
     "end_time": "2023-05-01T00:34:20.507667",
     "exception": false,
     "start_time": "2023-05-01T00:34:20.478467",
     "status": "completed"
    },
    "tags": []
   },
   "source": [
    "<h4 style='text-align: center; background: gold; padding: 10px; border: 2px solid black'>\n",
    "    Now, let's do some EDA (Exploratory Data Analysis) and gain some useful info using pd.crosstab method.\n",
    "</h4>"
   ]
  },
  {
   "cell_type": "code",
   "execution_count": 40,
   "id": "20c8a1fe",
   "metadata": {
    "execution": {
     "iopub.execute_input": "2023-05-01T00:34:20.570341Z",
     "iopub.status.busy": "2023-05-01T00:34:20.569920Z",
     "iopub.status.idle": "2023-05-01T00:34:20.576166Z",
     "shell.execute_reply": "2023-05-01T00:34:20.575120Z"
    },
    "papermill": {
     "duration": 0.040218,
     "end_time": "2023-05-01T00:34:20.578338",
     "exception": false,
     "start_time": "2023-05-01T00:34:20.538120",
     "status": "completed"
    },
    "tags": []
   },
   "outputs": [],
   "source": [
    "def crosstab_counts(feature, normalize=False):\n",
    "    return pd.crosstab(\n",
    "        index=emp_df[feature],\n",
    "        columns='Counts(%)',\n",
    "        normalize=normalize\n",
    "    ).apply(lambda x: round(x*100, 4)).sort_values(by='Counts(%)', ascending=False)"
   ]
  },
  {
   "cell_type": "code",
   "execution_count": 41,
   "id": "6094a5fd",
   "metadata": {
    "execution": {
     "iopub.execute_input": "2023-05-01T00:34:20.640484Z",
     "iopub.status.busy": "2023-05-01T00:34:20.639654Z",
     "iopub.status.idle": "2023-05-01T00:34:20.680786Z",
     "shell.execute_reply": "2023-05-01T00:34:20.679803Z"
    },
    "papermill": {
     "duration": 0.074943,
     "end_time": "2023-05-01T00:34:20.683887",
     "exception": false,
     "start_time": "2023-05-01T00:34:20.608944",
     "status": "completed"
    },
    "tags": []
   },
   "outputs": [
    {
     "data": {
      "text/html": [
       "<div>\n",
       "<style scoped>\n",
       "    .dataframe tbody tr th:only-of-type {\n",
       "        vertical-align: middle;\n",
       "    }\n",
       "\n",
       "    .dataframe tbody tr th {\n",
       "        vertical-align: top;\n",
       "    }\n",
       "\n",
       "    .dataframe thead th {\n",
       "        text-align: right;\n",
       "    }\n",
       "</style>\n",
       "<table border=\"1\" class=\"dataframe\">\n",
       "  <thead>\n",
       "    <tr style=\"text-align: right;\">\n",
       "      <th>salary</th>\n",
       "      <th>&lt;=50K</th>\n",
       "      <th>&gt;50K</th>\n",
       "    </tr>\n",
       "    <tr>\n",
       "      <th>col_0</th>\n",
       "      <th></th>\n",
       "      <th></th>\n",
       "    </tr>\n",
       "  </thead>\n",
       "  <tbody>\n",
       "    <tr>\n",
       "      <th>Counts(%)</th>\n",
       "      <td>75.919</td>\n",
       "      <td>24.081</td>\n",
       "    </tr>\n",
       "  </tbody>\n",
       "</table>\n",
       "</div>"
      ],
      "text/plain": [
       "salary      <=50K    >50K\n",
       "col_0                    \n",
       "Counts(%)  75.919  24.081"
      ]
     },
     "execution_count": 41,
     "metadata": {},
     "output_type": "execute_result"
    }
   ],
   "source": [
    "crosstab_counts('salary', True).T"
   ]
  },
  {
   "cell_type": "code",
   "execution_count": 42,
   "id": "8521218e",
   "metadata": {
    "execution": {
     "iopub.execute_input": "2023-05-01T00:34:20.759470Z",
     "iopub.status.busy": "2023-05-01T00:34:20.759025Z",
     "iopub.status.idle": "2023-05-01T00:34:20.794479Z",
     "shell.execute_reply": "2023-05-01T00:34:20.793169Z"
    },
    "papermill": {
     "duration": 0.07876,
     "end_time": "2023-05-01T00:34:20.796984",
     "exception": false,
     "start_time": "2023-05-01T00:34:20.718224",
     "status": "completed"
    },
    "tags": []
   },
   "outputs": [
    {
     "data": {
      "text/html": [
       "<div>\n",
       "<style scoped>\n",
       "    .dataframe tbody tr th:only-of-type {\n",
       "        vertical-align: middle;\n",
       "    }\n",
       "\n",
       "    .dataframe tbody tr th {\n",
       "        vertical-align: top;\n",
       "    }\n",
       "\n",
       "    .dataframe thead th {\n",
       "        text-align: right;\n",
       "    }\n",
       "</style>\n",
       "<table border=\"1\" class=\"dataframe\">\n",
       "  <thead>\n",
       "    <tr style=\"text-align: right;\">\n",
       "      <th>sex</th>\n",
       "      <th>Male</th>\n",
       "      <th>Female</th>\n",
       "    </tr>\n",
       "    <tr>\n",
       "      <th>col_0</th>\n",
       "      <th></th>\n",
       "      <th></th>\n",
       "    </tr>\n",
       "  </thead>\n",
       "  <tbody>\n",
       "    <tr>\n",
       "      <th>Counts(%)</th>\n",
       "      <td>66.9205</td>\n",
       "      <td>33.0795</td>\n",
       "    </tr>\n",
       "  </tbody>\n",
       "</table>\n",
       "</div>"
      ],
      "text/plain": [
       "sex           Male   Female\n",
       "col_0                      \n",
       "Counts(%)  66.9205  33.0795"
      ]
     },
     "execution_count": 42,
     "metadata": {},
     "output_type": "execute_result"
    }
   ],
   "source": [
    "crosstab_counts('sex', True).T"
   ]
  },
  {
   "cell_type": "code",
   "execution_count": 43,
   "id": "ed09419d",
   "metadata": {
    "execution": {
     "iopub.execute_input": "2023-05-01T00:34:20.864186Z",
     "iopub.status.busy": "2023-05-01T00:34:20.863620Z",
     "iopub.status.idle": "2023-05-01T00:34:20.903320Z",
     "shell.execute_reply": "2023-05-01T00:34:20.902185Z"
    },
    "papermill": {
     "duration": 0.079127,
     "end_time": "2023-05-01T00:34:20.906097",
     "exception": false,
     "start_time": "2023-05-01T00:34:20.826970",
     "status": "completed"
    },
    "tags": []
   },
   "outputs": [
    {
     "data": {
      "text/html": [
       "<div>\n",
       "<style scoped>\n",
       "    .dataframe tbody tr th:only-of-type {\n",
       "        vertical-align: middle;\n",
       "    }\n",
       "\n",
       "    .dataframe tbody tr th {\n",
       "        vertical-align: top;\n",
       "    }\n",
       "\n",
       "    .dataframe thead th {\n",
       "        text-align: right;\n",
       "    }\n",
       "</style>\n",
       "<table border=\"1\" class=\"dataframe\">\n",
       "  <thead>\n",
       "    <tr style=\"text-align: right;\">\n",
       "      <th>workclass</th>\n",
       "      <th>Private</th>\n",
       "      <th>Self-emp-not-inc</th>\n",
       "      <th>Local-gov</th>\n",
       "      <th>State-gov</th>\n",
       "      <th>Self-emp-inc</th>\n",
       "      <th>Federal-gov</th>\n",
       "      <th>Without-pay</th>\n",
       "      <th>Never-worked</th>\n",
       "    </tr>\n",
       "    <tr>\n",
       "      <th>col_0</th>\n",
       "      <th></th>\n",
       "      <th></th>\n",
       "      <th></th>\n",
       "      <th></th>\n",
       "      <th></th>\n",
       "      <th></th>\n",
       "      <th></th>\n",
       "      <th></th>\n",
       "    </tr>\n",
       "  </thead>\n",
       "  <tbody>\n",
       "    <tr>\n",
       "      <th>Counts(%)</th>\n",
       "      <td>75.3417</td>\n",
       "      <td>7.8038</td>\n",
       "      <td>6.4279</td>\n",
       "      <td>3.9864</td>\n",
       "      <td>3.4274</td>\n",
       "      <td>2.9483</td>\n",
       "      <td>0.043</td>\n",
       "      <td>0.0215</td>\n",
       "    </tr>\n",
       "  </tbody>\n",
       "</table>\n",
       "</div>"
      ],
      "text/plain": [
       "workclass   Private   Self-emp-not-inc   Local-gov   State-gov   Self-emp-inc  \\\n",
       "col_0                                                                           \n",
       "Counts(%)   75.3417             7.8038      6.4279      3.9864         3.4274   \n",
       "\n",
       "workclass   Federal-gov   Without-pay   Never-worked  \n",
       "col_0                                                 \n",
       "Counts(%)        2.9483         0.043         0.0215  "
      ]
     },
     "execution_count": 43,
     "metadata": {},
     "output_type": "execute_result"
    }
   ],
   "source": [
    "# workclass counts\n",
    "crosstab_counts('workclass', True).T"
   ]
  },
  {
   "cell_type": "code",
   "execution_count": 44,
   "id": "cf199125",
   "metadata": {
    "execution": {
     "iopub.execute_input": "2023-05-01T00:34:20.974112Z",
     "iopub.status.busy": "2023-05-01T00:34:20.973697Z",
     "iopub.status.idle": "2023-05-01T00:34:21.004496Z",
     "shell.execute_reply": "2023-05-01T00:34:21.003230Z"
    },
    "papermill": {
     "duration": 0.066218,
     "end_time": "2023-05-01T00:34:21.007055",
     "exception": false,
     "start_time": "2023-05-01T00:34:20.940837",
     "status": "completed"
    },
    "tags": []
   },
   "outputs": [
    {
     "data": {
      "text/html": [
       "<div>\n",
       "<style scoped>\n",
       "    .dataframe tbody tr th:only-of-type {\n",
       "        vertical-align: middle;\n",
       "    }\n",
       "\n",
       "    .dataframe tbody tr th {\n",
       "        vertical-align: top;\n",
       "    }\n",
       "\n",
       "    .dataframe thead th {\n",
       "        text-align: right;\n",
       "    }\n",
       "</style>\n",
       "<table border=\"1\" class=\"dataframe\">\n",
       "  <thead>\n",
       "    <tr style=\"text-align: right;\">\n",
       "      <th>col_0</th>\n",
       "      <th>Counts(%)</th>\n",
       "    </tr>\n",
       "    <tr>\n",
       "      <th>education</th>\n",
       "      <th></th>\n",
       "    </tr>\n",
       "  </thead>\n",
       "  <tbody>\n",
       "    <tr>\n",
       "      <th>HS-grad</th>\n",
       "      <td>32.2502</td>\n",
       "    </tr>\n",
       "    <tr>\n",
       "      <th>Some-college</th>\n",
       "      <td>22.3918</td>\n",
       "    </tr>\n",
       "    <tr>\n",
       "      <th>Bachelors</th>\n",
       "      <td>16.4461</td>\n",
       "    </tr>\n",
       "    <tr>\n",
       "      <th>Masters</th>\n",
       "      <td>5.2916</td>\n",
       "    </tr>\n",
       "    <tr>\n",
       "      <th>Assoc-voc</th>\n",
       "      <td>4.2443</td>\n",
       "    </tr>\n",
       "    <tr>\n",
       "      <th>11th</th>\n",
       "      <td>3.6086</td>\n",
       "    </tr>\n",
       "    <tr>\n",
       "      <th>Assoc-acdm</th>\n",
       "      <td>3.2769</td>\n",
       "    </tr>\n",
       "    <tr>\n",
       "      <th>10th</th>\n",
       "      <td>2.8654</td>\n",
       "    </tr>\n",
       "    <tr>\n",
       "      <th>7th-8th</th>\n",
       "      <td>1.9840</td>\n",
       "    </tr>\n",
       "    <tr>\n",
       "      <th>Prof-school</th>\n",
       "      <td>1.7690</td>\n",
       "    </tr>\n",
       "    <tr>\n",
       "      <th>9th</th>\n",
       "      <td>1.5786</td>\n",
       "    </tr>\n",
       "    <tr>\n",
       "      <th>12th</th>\n",
       "      <td>1.3298</td>\n",
       "    </tr>\n",
       "    <tr>\n",
       "      <th>Doctorate</th>\n",
       "      <td>1.2684</td>\n",
       "    </tr>\n",
       "    <tr>\n",
       "      <th>5th-6th</th>\n",
       "      <td>1.0227</td>\n",
       "    </tr>\n",
       "    <tr>\n",
       "      <th>1st-4th</th>\n",
       "      <td>0.5160</td>\n",
       "    </tr>\n",
       "    <tr>\n",
       "      <th>Preschool</th>\n",
       "      <td>0.1566</td>\n",
       "    </tr>\n",
       "  </tbody>\n",
       "</table>\n",
       "</div>"
      ],
      "text/plain": [
       "col_0          Counts(%)\n",
       "education               \n",
       " HS-grad         32.2502\n",
       " Some-college    22.3918\n",
       " Bachelors       16.4461\n",
       " Masters          5.2916\n",
       " Assoc-voc        4.2443\n",
       " 11th             3.6086\n",
       " Assoc-acdm       3.2769\n",
       " 10th             2.8654\n",
       " 7th-8th          1.9840\n",
       " Prof-school      1.7690\n",
       " 9th              1.5786\n",
       " 12th             1.3298\n",
       " Doctorate        1.2684\n",
       " 5th-6th          1.0227\n",
       " 1st-4th          0.5160\n",
       " Preschool        0.1566"
      ]
     },
     "execution_count": 44,
     "metadata": {},
     "output_type": "execute_result"
    }
   ],
   "source": [
    "# education counts\n",
    "crosstab_counts('education', True)"
   ]
  },
  {
   "cell_type": "code",
   "execution_count": 45,
   "id": "01fff346",
   "metadata": {
    "execution": {
     "iopub.execute_input": "2023-05-01T00:34:21.081286Z",
     "iopub.status.busy": "2023-05-01T00:34:21.080364Z",
     "iopub.status.idle": "2023-05-01T00:34:21.114023Z",
     "shell.execute_reply": "2023-05-01T00:34:21.112744Z"
    },
    "papermill": {
     "duration": 0.074065,
     "end_time": "2023-05-01T00:34:21.116757",
     "exception": false,
     "start_time": "2023-05-01T00:34:21.042692",
     "status": "completed"
    },
    "tags": []
   },
   "outputs": [
    {
     "data": {
      "text/html": [
       "<div>\n",
       "<style scoped>\n",
       "    .dataframe tbody tr th:only-of-type {\n",
       "        vertical-align: middle;\n",
       "    }\n",
       "\n",
       "    .dataframe tbody tr th {\n",
       "        vertical-align: top;\n",
       "    }\n",
       "\n",
       "    .dataframe thead th {\n",
       "        text-align: right;\n",
       "    }\n",
       "</style>\n",
       "<table border=\"1\" class=\"dataframe\">\n",
       "  <thead>\n",
       "    <tr style=\"text-align: right;\">\n",
       "      <th>marital-status</th>\n",
       "      <th>Married-civ-spouse</th>\n",
       "      <th>Never-married</th>\n",
       "      <th>Divorced</th>\n",
       "      <th>Separated</th>\n",
       "      <th>Widowed</th>\n",
       "      <th>Married-spouse-absent</th>\n",
       "      <th>Married-AF-spouse</th>\n",
       "    </tr>\n",
       "    <tr>\n",
       "      <th>col_0</th>\n",
       "      <th></th>\n",
       "      <th></th>\n",
       "      <th></th>\n",
       "      <th></th>\n",
       "      <th></th>\n",
       "      <th></th>\n",
       "      <th></th>\n",
       "    </tr>\n",
       "  </thead>\n",
       "  <tbody>\n",
       "    <tr>\n",
       "      <th>Counts(%)</th>\n",
       "      <td>45.9937</td>\n",
       "      <td>32.8092</td>\n",
       "      <td>13.6452</td>\n",
       "      <td>3.1479</td>\n",
       "      <td>3.0497</td>\n",
       "      <td>1.2837</td>\n",
       "      <td>0.0706</td>\n",
       "    </tr>\n",
       "  </tbody>\n",
       "</table>\n",
       "</div>"
      ],
      "text/plain": [
       "marital-status   Married-civ-spouse   Never-married   Divorced   Separated  \\\n",
       "col_0                                                                        \n",
       "Counts(%)                   45.9937         32.8092    13.6452      3.1479   \n",
       "\n",
       "marital-status   Widowed   Married-spouse-absent   Married-AF-spouse  \n",
       "col_0                                                                 \n",
       "Counts(%)         3.0497                  1.2837              0.0706  "
      ]
     },
     "execution_count": 45,
     "metadata": {},
     "output_type": "execute_result"
    }
   ],
   "source": [
    "# marital-status counts\n",
    "crosstab_counts('marital-status', True).T"
   ]
  },
  {
   "cell_type": "code",
   "execution_count": 46,
   "id": "9fbc807c",
   "metadata": {
    "execution": {
     "iopub.execute_input": "2023-05-01T00:34:21.179688Z",
     "iopub.status.busy": "2023-05-01T00:34:21.178897Z",
     "iopub.status.idle": "2023-05-01T00:34:21.211444Z",
     "shell.execute_reply": "2023-05-01T00:34:21.210108Z"
    },
    "papermill": {
     "duration": 0.067818,
     "end_time": "2023-05-01T00:34:21.214896",
     "exception": false,
     "start_time": "2023-05-01T00:34:21.147078",
     "status": "completed"
    },
    "tags": []
   },
   "outputs": [
    {
     "data": {
      "text/html": [
       "<div>\n",
       "<style scoped>\n",
       "    .dataframe tbody tr th:only-of-type {\n",
       "        vertical-align: middle;\n",
       "    }\n",
       "\n",
       "    .dataframe tbody tr th {\n",
       "        vertical-align: top;\n",
       "    }\n",
       "\n",
       "    .dataframe thead th {\n",
       "        text-align: right;\n",
       "    }\n",
       "</style>\n",
       "<table border=\"1\" class=\"dataframe\">\n",
       "  <thead>\n",
       "    <tr style=\"text-align: right;\">\n",
       "      <th>relationship</th>\n",
       "      <th>Husband</th>\n",
       "      <th>Not-in-family</th>\n",
       "      <th>Own-child</th>\n",
       "      <th>Unmarried</th>\n",
       "      <th>Wife</th>\n",
       "      <th>Other-relative</th>\n",
       "    </tr>\n",
       "    <tr>\n",
       "      <th>col_0</th>\n",
       "      <th></th>\n",
       "      <th></th>\n",
       "      <th></th>\n",
       "      <th></th>\n",
       "      <th></th>\n",
       "      <th></th>\n",
       "    </tr>\n",
       "  </thead>\n",
       "  <tbody>\n",
       "    <tr>\n",
       "      <th>Counts(%)</th>\n",
       "      <td>40.5178</td>\n",
       "      <td>25.506</td>\n",
       "      <td>15.5646</td>\n",
       "      <td>10.5832</td>\n",
       "      <td>4.8156</td>\n",
       "      <td>3.0128</td>\n",
       "    </tr>\n",
       "  </tbody>\n",
       "</table>\n",
       "</div>"
      ],
      "text/plain": [
       "relationship   Husband   Not-in-family   Own-child   Unmarried    Wife  \\\n",
       "col_0                                                                    \n",
       "Counts(%)      40.5178          25.506     15.5646     10.5832  4.8156   \n",
       "\n",
       "relationship   Other-relative  \n",
       "col_0                          \n",
       "Counts(%)              3.0128  "
      ]
     },
     "execution_count": 46,
     "metadata": {},
     "output_type": "execute_result"
    }
   ],
   "source": [
    "# relationship count\n",
    "crosstab_counts('relationship', True).T"
   ]
  },
  {
   "cell_type": "code",
   "execution_count": 47,
   "id": "32d64899",
   "metadata": {
    "execution": {
     "iopub.execute_input": "2023-05-01T00:34:21.286009Z",
     "iopub.status.busy": "2023-05-01T00:34:21.285209Z",
     "iopub.status.idle": "2023-05-01T00:34:21.317111Z",
     "shell.execute_reply": "2023-05-01T00:34:21.315855Z"
    },
    "papermill": {
     "duration": 0.067077,
     "end_time": "2023-05-01T00:34:21.319511",
     "exception": false,
     "start_time": "2023-05-01T00:34:21.252434",
     "status": "completed"
    },
    "tags": []
   },
   "outputs": [
    {
     "data": {
      "text/html": [
       "<div>\n",
       "<style scoped>\n",
       "    .dataframe tbody tr th:only-of-type {\n",
       "        vertical-align: middle;\n",
       "    }\n",
       "\n",
       "    .dataframe tbody tr th {\n",
       "        vertical-align: top;\n",
       "    }\n",
       "\n",
       "    .dataframe thead th {\n",
       "        text-align: right;\n",
       "    }\n",
       "</style>\n",
       "<table border=\"1\" class=\"dataframe\">\n",
       "  <thead>\n",
       "    <tr style=\"text-align: right;\">\n",
       "      <th>race</th>\n",
       "      <th>White</th>\n",
       "      <th>Black</th>\n",
       "      <th>Asian-Pac-Islander</th>\n",
       "      <th>Amer-Indian-Eskimo</th>\n",
       "      <th>Other</th>\n",
       "    </tr>\n",
       "    <tr>\n",
       "      <th>col_0</th>\n",
       "      <th></th>\n",
       "      <th></th>\n",
       "      <th></th>\n",
       "      <th></th>\n",
       "      <th></th>\n",
       "    </tr>\n",
       "  </thead>\n",
       "  <tbody>\n",
       "    <tr>\n",
       "      <th>Counts(%)</th>\n",
       "      <td>85.4274</td>\n",
       "      <td>9.5943</td>\n",
       "      <td>3.1909</td>\n",
       "      <td>0.9551</td>\n",
       "      <td>0.8323</td>\n",
       "    </tr>\n",
       "  </tbody>\n",
       "</table>\n",
       "</div>"
      ],
      "text/plain": [
       "race         White   Black   Asian-Pac-Islander   Amer-Indian-Eskimo   Other\n",
       "col_0                                                                       \n",
       "Counts(%)  85.4274  9.5943               3.1909               0.9551  0.8323"
      ]
     },
     "execution_count": 47,
     "metadata": {},
     "output_type": "execute_result"
    }
   ],
   "source": [
    "crosstab_counts('race', True).T"
   ]
  },
  {
   "cell_type": "code",
   "execution_count": 48,
   "id": "997083d7",
   "metadata": {
    "execution": {
     "iopub.execute_input": "2023-05-01T00:34:21.382344Z",
     "iopub.status.busy": "2023-05-01T00:34:21.381664Z",
     "iopub.status.idle": "2023-05-01T00:34:21.451766Z",
     "shell.execute_reply": "2023-05-01T00:34:21.450426Z"
    },
    "papermill": {
     "duration": 0.104443,
     "end_time": "2023-05-01T00:34:21.454304",
     "exception": false,
     "start_time": "2023-05-01T00:34:21.349861",
     "status": "completed"
    },
    "tags": []
   },
   "outputs": [
    {
     "data": {
      "text/html": [
       "<div>\n",
       "<style scoped>\n",
       "    .dataframe tbody tr th:only-of-type {\n",
       "        vertical-align: middle;\n",
       "    }\n",
       "\n",
       "    .dataframe tbody tr th {\n",
       "        vertical-align: top;\n",
       "    }\n",
       "\n",
       "    .dataframe thead th {\n",
       "        text-align: right;\n",
       "    }\n",
       "</style>\n",
       "<table border=\"1\" class=\"dataframe\">\n",
       "  <thead>\n",
       "    <tr style=\"text-align: right;\">\n",
       "      <th>sex</th>\n",
       "      <th>Female</th>\n",
       "      <th>Male</th>\n",
       "      <th>All</th>\n",
       "    </tr>\n",
       "    <tr>\n",
       "      <th>salary</th>\n",
       "      <th></th>\n",
       "      <th></th>\n",
       "      <th></th>\n",
       "    </tr>\n",
       "  </thead>\n",
       "  <tbody>\n",
       "    <tr>\n",
       "      <th>&lt;=50K</th>\n",
       "      <td>0.294586</td>\n",
       "      <td>0.464605</td>\n",
       "      <td>0.75919</td>\n",
       "    </tr>\n",
       "    <tr>\n",
       "      <th>&gt;50K</th>\n",
       "      <td>0.036209</td>\n",
       "      <td>0.204601</td>\n",
       "      <td>0.24081</td>\n",
       "    </tr>\n",
       "    <tr>\n",
       "      <th>All</th>\n",
       "      <td>0.330795</td>\n",
       "      <td>0.669205</td>\n",
       "      <td>1.00000</td>\n",
       "    </tr>\n",
       "  </tbody>\n",
       "</table>\n",
       "</div>"
      ],
      "text/plain": [
       "sex       Female      Male      All\n",
       "salary                             \n",
       " <=50K  0.294586  0.464605  0.75919\n",
       " >50K   0.036209  0.204601  0.24081\n",
       "All     0.330795  0.669205  1.00000"
      ]
     },
     "execution_count": 48,
     "metadata": {},
     "output_type": "execute_result"
    }
   ],
   "source": [
    "# Sex vs salary\n",
    "pd.crosstab(\n",
    "    index=emp_df['salary'],\n",
    "    columns=emp_df['sex'],\n",
    "    margins=True,\n",
    "    normalize=True\n",
    ")"
   ]
  },
  {
   "cell_type": "code",
   "execution_count": 49,
   "id": "a075c6f6",
   "metadata": {
    "execution": {
     "iopub.execute_input": "2023-05-01T00:34:21.520346Z",
     "iopub.status.busy": "2023-05-01T00:34:21.519330Z",
     "iopub.status.idle": "2023-05-01T00:34:21.589135Z",
     "shell.execute_reply": "2023-05-01T00:34:21.587826Z"
    },
    "papermill": {
     "duration": 0.104684,
     "end_time": "2023-05-01T00:34:21.591476",
     "exception": false,
     "start_time": "2023-05-01T00:34:21.486792",
     "status": "completed"
    },
    "tags": []
   },
   "outputs": [
    {
     "data": {
      "text/html": [
       "<div>\n",
       "<style scoped>\n",
       "    .dataframe tbody tr th:only-of-type {\n",
       "        vertical-align: middle;\n",
       "    }\n",
       "\n",
       "    .dataframe tbody tr th {\n",
       "        vertical-align: top;\n",
       "    }\n",
       "\n",
       "    .dataframe thead th {\n",
       "        text-align: right;\n",
       "    }\n",
       "</style>\n",
       "<table border=\"1\" class=\"dataframe\">\n",
       "  <thead>\n",
       "    <tr style=\"text-align: right;\">\n",
       "      <th>race</th>\n",
       "      <th>Amer-Indian-Eskimo</th>\n",
       "      <th>Asian-Pac-Islander</th>\n",
       "      <th>Black</th>\n",
       "      <th>Other</th>\n",
       "      <th>White</th>\n",
       "      <th>All</th>\n",
       "    </tr>\n",
       "    <tr>\n",
       "      <th>salary</th>\n",
       "      <th></th>\n",
       "      <th></th>\n",
       "      <th></th>\n",
       "      <th></th>\n",
       "      <th></th>\n",
       "      <th></th>\n",
       "    </tr>\n",
       "  </thead>\n",
       "  <tbody>\n",
       "    <tr>\n",
       "      <th>&lt;=50K</th>\n",
       "      <td>0.008446</td>\n",
       "      <td>0.023433</td>\n",
       "      <td>0.084058</td>\n",
       "      <td>0.007555</td>\n",
       "      <td>0.635699</td>\n",
       "      <td>0.75919</td>\n",
       "    </tr>\n",
       "    <tr>\n",
       "      <th>&gt;50K</th>\n",
       "      <td>0.001106</td>\n",
       "      <td>0.008476</td>\n",
       "      <td>0.011885</td>\n",
       "      <td>0.000768</td>\n",
       "      <td>0.218574</td>\n",
       "      <td>0.24081</td>\n",
       "    </tr>\n",
       "    <tr>\n",
       "      <th>All</th>\n",
       "      <td>0.009551</td>\n",
       "      <td>0.031909</td>\n",
       "      <td>0.095943</td>\n",
       "      <td>0.008323</td>\n",
       "      <td>0.854274</td>\n",
       "      <td>1.00000</td>\n",
       "    </tr>\n",
       "  </tbody>\n",
       "</table>\n",
       "</div>"
      ],
      "text/plain": [
       "race     Amer-Indian-Eskimo   Asian-Pac-Islander     Black     Other  \\\n",
       "salary                                                                 \n",
       " <=50K             0.008446             0.023433  0.084058  0.007555   \n",
       " >50K              0.001106             0.008476  0.011885  0.000768   \n",
       "All                0.009551             0.031909  0.095943  0.008323   \n",
       "\n",
       "race       White      All  \n",
       "salary                     \n",
       " <=50K  0.635699  0.75919  \n",
       " >50K   0.218574  0.24081  \n",
       "All     0.854274  1.00000  "
      ]
     },
     "execution_count": 49,
     "metadata": {},
     "output_type": "execute_result"
    }
   ],
   "source": [
    "# Race vs salary\n",
    "pd.crosstab(\n",
    "    index=emp_df['salary'],\n",
    "    columns=emp_df['race'],\n",
    "    margins=True,\n",
    "    normalize=True\n",
    ")"
   ]
  },
  {
   "cell_type": "code",
   "execution_count": 50,
   "id": "23128080",
   "metadata": {
    "execution": {
     "iopub.execute_input": "2023-05-01T00:34:21.657551Z",
     "iopub.status.busy": "2023-05-01T00:34:21.657113Z",
     "iopub.status.idle": "2023-05-01T00:34:21.728690Z",
     "shell.execute_reply": "2023-05-01T00:34:21.727630Z"
    },
    "papermill": {
     "duration": 0.106939,
     "end_time": "2023-05-01T00:34:21.731046",
     "exception": false,
     "start_time": "2023-05-01T00:34:21.624107",
     "status": "completed"
    },
    "tags": []
   },
   "outputs": [
    {
     "data": {
      "text/html": [
       "<div>\n",
       "<style scoped>\n",
       "    .dataframe tbody tr th:only-of-type {\n",
       "        vertical-align: middle;\n",
       "    }\n",
       "\n",
       "    .dataframe tbody tr th {\n",
       "        vertical-align: top;\n",
       "    }\n",
       "\n",
       "    .dataframe thead th {\n",
       "        text-align: right;\n",
       "    }\n",
       "</style>\n",
       "<table border=\"1\" class=\"dataframe\">\n",
       "  <thead>\n",
       "    <tr style=\"text-align: right;\">\n",
       "      <th>relationship</th>\n",
       "      <th>Husband</th>\n",
       "      <th>Not-in-family</th>\n",
       "      <th>Other-relative</th>\n",
       "      <th>Own-child</th>\n",
       "      <th>Unmarried</th>\n",
       "      <th>Wife</th>\n",
       "      <th>All</th>\n",
       "    </tr>\n",
       "    <tr>\n",
       "      <th>salary</th>\n",
       "      <th></th>\n",
       "      <th></th>\n",
       "      <th></th>\n",
       "      <th></th>\n",
       "      <th></th>\n",
       "      <th></th>\n",
       "      <th></th>\n",
       "    </tr>\n",
       "  </thead>\n",
       "  <tbody>\n",
       "    <tr>\n",
       "      <th>&lt;=50K</th>\n",
       "      <td>0.223427</td>\n",
       "      <td>0.228771</td>\n",
       "      <td>0.028992</td>\n",
       "      <td>0.153589</td>\n",
       "      <td>0.099137</td>\n",
       "      <td>0.025276</td>\n",
       "      <td>0.75919</td>\n",
       "    </tr>\n",
       "    <tr>\n",
       "      <th>&gt;50K</th>\n",
       "      <td>0.181751</td>\n",
       "      <td>0.026289</td>\n",
       "      <td>0.001136</td>\n",
       "      <td>0.002058</td>\n",
       "      <td>0.006695</td>\n",
       "      <td>0.022880</td>\n",
       "      <td>0.24081</td>\n",
       "    </tr>\n",
       "    <tr>\n",
       "      <th>All</th>\n",
       "      <td>0.405178</td>\n",
       "      <td>0.255060</td>\n",
       "      <td>0.030128</td>\n",
       "      <td>0.155646</td>\n",
       "      <td>0.105832</td>\n",
       "      <td>0.048156</td>\n",
       "      <td>1.00000</td>\n",
       "    </tr>\n",
       "  </tbody>\n",
       "</table>\n",
       "</div>"
      ],
      "text/plain": [
       "relationship   Husband   Not-in-family   Other-relative   Own-child  \\\n",
       "salary                                                                \n",
       " <=50K        0.223427        0.228771         0.028992    0.153589   \n",
       " >50K         0.181751        0.026289         0.001136    0.002058   \n",
       "All           0.405178        0.255060         0.030128    0.155646   \n",
       "\n",
       "relationship   Unmarried      Wife      All  \n",
       "salary                                       \n",
       " <=50K          0.099137  0.025276  0.75919  \n",
       " >50K           0.006695  0.022880  0.24081  \n",
       "All             0.105832  0.048156  1.00000  "
      ]
     },
     "execution_count": 50,
     "metadata": {},
     "output_type": "execute_result"
    }
   ],
   "source": [
    "# Relationship vs salary\n",
    "pd.crosstab(\n",
    "    index=emp_df['salary'],\n",
    "    columns=emp_df['relationship'],\n",
    "    margins=True,\n",
    "    normalize=True\n",
    ")"
   ]
  },
  {
   "cell_type": "code",
   "execution_count": 51,
   "id": "442e6906",
   "metadata": {
    "execution": {
     "iopub.execute_input": "2023-05-01T00:34:21.795055Z",
     "iopub.status.busy": "2023-05-01T00:34:21.794647Z",
     "iopub.status.idle": "2023-05-01T00:34:21.854778Z",
     "shell.execute_reply": "2023-05-01T00:34:21.853335Z"
    },
    "papermill": {
     "duration": 0.09534,
     "end_time": "2023-05-01T00:34:21.857472",
     "exception": false,
     "start_time": "2023-05-01T00:34:21.762132",
     "status": "completed"
    },
    "tags": []
   },
   "outputs": [
    {
     "data": {
      "text/html": [
       "<div>\n",
       "<style scoped>\n",
       "    .dataframe tbody tr th:only-of-type {\n",
       "        vertical-align: middle;\n",
       "    }\n",
       "\n",
       "    .dataframe tbody tr th {\n",
       "        vertical-align: top;\n",
       "    }\n",
       "\n",
       "    .dataframe thead th {\n",
       "        text-align: right;\n",
       "    }\n",
       "</style>\n",
       "<table border=\"1\" class=\"dataframe\">\n",
       "  <thead>\n",
       "    <tr style=\"text-align: right;\">\n",
       "      <th>sex</th>\n",
       "      <th>Female</th>\n",
       "      <th>Male</th>\n",
       "      <th>All</th>\n",
       "    </tr>\n",
       "    <tr>\n",
       "      <th>salary</th>\n",
       "      <th></th>\n",
       "      <th></th>\n",
       "      <th></th>\n",
       "    </tr>\n",
       "  </thead>\n",
       "  <tbody>\n",
       "    <tr>\n",
       "      <th>&lt;=50K</th>\n",
       "      <td>9592</td>\n",
       "      <td>15128</td>\n",
       "      <td>24720</td>\n",
       "    </tr>\n",
       "    <tr>\n",
       "      <th>&gt;50K</th>\n",
       "      <td>1179</td>\n",
       "      <td>6662</td>\n",
       "      <td>7841</td>\n",
       "    </tr>\n",
       "    <tr>\n",
       "      <th>All</th>\n",
       "      <td>10771</td>\n",
       "      <td>21790</td>\n",
       "      <td>32561</td>\n",
       "    </tr>\n",
       "  </tbody>\n",
       "</table>\n",
       "</div>"
      ],
      "text/plain": [
       "sex      Female   Male    All\n",
       "salary                       \n",
       " <=50K     9592  15128  24720\n",
       " >50K      1179   6662   7841\n",
       "All       10771  21790  32561"
      ]
     },
     "execution_count": 51,
     "metadata": {},
     "output_type": "execute_result"
    }
   ],
   "source": [
    "pd.crosstab(\n",
    "    index=emp_df['salary'],\n",
    "    columns=emp_df['sex'],\n",
    "    margins=True\n",
    ")"
   ]
  },
  {
   "cell_type": "code",
   "execution_count": 52,
   "id": "45fb22a3",
   "metadata": {
    "execution": {
     "iopub.execute_input": "2023-05-01T00:34:21.923149Z",
     "iopub.status.busy": "2023-05-01T00:34:21.922472Z",
     "iopub.status.idle": "2023-05-01T00:34:21.939188Z",
     "shell.execute_reply": "2023-05-01T00:34:21.937912Z"
    },
    "papermill": {
     "duration": 0.052231,
     "end_time": "2023-05-01T00:34:21.941510",
     "exception": false,
     "start_time": "2023-05-01T00:34:21.889279",
     "status": "completed"
    },
    "tags": []
   },
   "outputs": [
    {
     "data": {
      "text/html": [
       "<div>\n",
       "<style scoped>\n",
       "    .dataframe tbody tr th:only-of-type {\n",
       "        vertical-align: middle;\n",
       "    }\n",
       "\n",
       "    .dataframe tbody tr th {\n",
       "        vertical-align: top;\n",
       "    }\n",
       "\n",
       "    .dataframe thead th {\n",
       "        text-align: right;\n",
       "    }\n",
       "</style>\n",
       "<table border=\"1\" class=\"dataframe\">\n",
       "  <thead>\n",
       "    <tr style=\"text-align: right;\">\n",
       "      <th></th>\n",
       "      <th>age</th>\n",
       "      <th>workclass</th>\n",
       "      <th>fnlwgt</th>\n",
       "      <th>education</th>\n",
       "      <th>education-num</th>\n",
       "      <th>marital-status</th>\n",
       "      <th>occupation</th>\n",
       "      <th>relationship</th>\n",
       "      <th>race</th>\n",
       "      <th>sex</th>\n",
       "      <th>capital-gain</th>\n",
       "      <th>capital-loss</th>\n",
       "      <th>hours-per-week</th>\n",
       "      <th>native-country</th>\n",
       "      <th>salary</th>\n",
       "    </tr>\n",
       "  </thead>\n",
       "  <tbody>\n",
       "    <tr>\n",
       "      <th>0</th>\n",
       "      <td>39</td>\n",
       "      <td>State-gov</td>\n",
       "      <td>77516</td>\n",
       "      <td>Bachelors</td>\n",
       "      <td>13</td>\n",
       "      <td>Never-married</td>\n",
       "      <td>Adm-clerical</td>\n",
       "      <td>Not-in-family</td>\n",
       "      <td>White</td>\n",
       "      <td>Male</td>\n",
       "      <td>2174</td>\n",
       "      <td>0</td>\n",
       "      <td>40</td>\n",
       "      <td>United-States</td>\n",
       "      <td>&lt;=50K</td>\n",
       "    </tr>\n",
       "    <tr>\n",
       "      <th>1</th>\n",
       "      <td>50</td>\n",
       "      <td>Self-emp-not-inc</td>\n",
       "      <td>83311</td>\n",
       "      <td>Bachelors</td>\n",
       "      <td>13</td>\n",
       "      <td>Married-civ-spouse</td>\n",
       "      <td>Exec-managerial</td>\n",
       "      <td>Husband</td>\n",
       "      <td>White</td>\n",
       "      <td>Male</td>\n",
       "      <td>0</td>\n",
       "      <td>0</td>\n",
       "      <td>13</td>\n",
       "      <td>United-States</td>\n",
       "      <td>&lt;=50K</td>\n",
       "    </tr>\n",
       "  </tbody>\n",
       "</table>\n",
       "</div>"
      ],
      "text/plain": [
       "   age          workclass  fnlwgt   education  education-num  \\\n",
       "0   39          State-gov   77516   Bachelors             13   \n",
       "1   50   Self-emp-not-inc   83311   Bachelors             13   \n",
       "\n",
       "        marital-status        occupation    relationship    race    sex  \\\n",
       "0        Never-married      Adm-clerical   Not-in-family   White   Male   \n",
       "1   Married-civ-spouse   Exec-managerial         Husband   White   Male   \n",
       "\n",
       "   capital-gain  capital-loss  hours-per-week  native-country  salary  \n",
       "0          2174             0              40   United-States   <=50K  \n",
       "1             0             0              13   United-States   <=50K  "
      ]
     },
     "execution_count": 52,
     "metadata": {},
     "output_type": "execute_result"
    }
   ],
   "source": [
    "emp_df.head(2)"
   ]
  },
  {
   "cell_type": "markdown",
   "id": "67c0f638",
   "metadata": {
    "papermill": {
     "duration": 0.031212,
     "end_time": "2023-05-01T00:34:22.006164",
     "exception": false,
     "start_time": "2023-05-01T00:34:21.974952",
     "status": "completed"
    },
    "tags": []
   },
   "source": [
    "<h2 style='text-align: center; background: gold; padding: 20px; border: 2px solid black'>\n",
    "    Feature Engineering\n",
    "</h2>"
   ]
  },
  {
   "cell_type": "markdown",
   "id": "009da33d",
   "metadata": {
    "papermill": {
     "duration": 0.031834,
     "end_time": "2023-05-01T00:34:22.070163",
     "exception": false,
     "start_time": "2023-05-01T00:34:22.038329",
     "status": "completed"
    },
    "tags": []
   },
   "source": [
    "In this section, we will only look at **Mutual Information (MI)**"
   ]
  },
  {
   "cell_type": "code",
   "execution_count": 53,
   "id": "ae656cf2",
   "metadata": {
    "execution": {
     "iopub.execute_input": "2023-05-01T00:34:22.265902Z",
     "iopub.status.busy": "2023-05-01T00:34:22.265247Z",
     "iopub.status.idle": "2023-05-01T00:34:22.272853Z",
     "shell.execute_reply": "2023-05-01T00:34:22.271610Z"
    },
    "papermill": {
     "duration": 0.043015,
     "end_time": "2023-05-01T00:34:22.275200",
     "exception": false,
     "start_time": "2023-05-01T00:34:22.232185",
     "status": "completed"
    },
    "tags": []
   },
   "outputs": [
    {
     "data": {
      "text/plain": [
       "Index(['age', 'workclass', 'fnlwgt', 'education', 'education-num',\n",
       "       'marital-status', 'occupation', 'relationship', 'race', 'sex',\n",
       "       'capital-gain', 'capital-loss', 'hours-per-week', 'native-country',\n",
       "       'salary'],\n",
       "      dtype='object')"
      ]
     },
     "execution_count": 53,
     "metadata": {},
     "output_type": "execute_result"
    }
   ],
   "source": [
    "emp_df.columns"
   ]
  },
  {
   "cell_type": "code",
   "execution_count": 54,
   "id": "54a4ee31",
   "metadata": {
    "execution": {
     "iopub.execute_input": "2023-05-01T00:34:22.341369Z",
     "iopub.status.busy": "2023-05-01T00:34:22.340697Z",
     "iopub.status.idle": "2023-05-01T00:34:22.350263Z",
     "shell.execute_reply": "2023-05-01T00:34:22.349475Z"
    },
    "papermill": {
     "duration": 0.045154,
     "end_time": "2023-05-01T00:34:22.352512",
     "exception": false,
     "start_time": "2023-05-01T00:34:22.307358",
     "status": "completed"
    },
    "tags": []
   },
   "outputs": [],
   "source": [
    "# convert >50k to 1 and <=50k to 0\n",
    "emp_df['salary'] = emp_df['salary'].map({' >50K': 1, ' <=50K': 0})"
   ]
  },
  {
   "cell_type": "code",
   "execution_count": 55,
   "id": "53726726",
   "metadata": {
    "execution": {
     "iopub.execute_input": "2023-05-01T00:34:22.418128Z",
     "iopub.status.busy": "2023-05-01T00:34:22.417474Z",
     "iopub.status.idle": "2023-05-01T00:34:22.427558Z",
     "shell.execute_reply": "2023-05-01T00:34:22.425820Z"
    },
    "papermill": {
     "duration": 0.046104,
     "end_time": "2023-05-01T00:34:22.430342",
     "exception": false,
     "start_time": "2023-05-01T00:34:22.384238",
     "status": "completed"
    },
    "tags": []
   },
   "outputs": [],
   "source": [
    "X = emp_df.iloc[:, :-1]\n",
    "y = emp_df['salary']"
   ]
  },
  {
   "cell_type": "code",
   "execution_count": 56,
   "id": "d35212d8",
   "metadata": {
    "execution": {
     "iopub.execute_input": "2023-05-01T00:34:22.497487Z",
     "iopub.status.busy": "2023-05-01T00:34:22.497039Z",
     "iopub.status.idle": "2023-05-01T00:34:22.828998Z",
     "shell.execute_reply": "2023-05-01T00:34:22.827994Z"
    },
    "papermill": {
     "duration": 0.368528,
     "end_time": "2023-05-01T00:34:22.831558",
     "exception": false,
     "start_time": "2023-05-01T00:34:22.463030",
     "status": "completed"
    },
    "tags": []
   },
   "outputs": [],
   "source": [
    "from sklearn.feature_selection import mutual_info_regression\n",
    "\n",
    "def get_mi_score(X, y):\n",
    "    X1 = X.copy()\n",
    "    # make sure that all discrete features be converted to numbers\n",
    "    for i in X1.select_dtypes('object').columns:\n",
    "        X1[i], _ = X1[i].factorize()\n",
    "    mi_score = mutual_info_regression(X1, y)\n",
    "    return pd.Series(mi_score, name='MI Score', index=X1.columns).sort_values(ascending=False)"
   ]
  },
  {
   "cell_type": "code",
   "execution_count": 57,
   "id": "a334bc5d",
   "metadata": {
    "execution": {
     "iopub.execute_input": "2023-05-01T00:34:22.902148Z",
     "iopub.status.busy": "2023-05-01T00:34:22.900779Z",
     "iopub.status.idle": "2023-05-01T00:34:25.976866Z",
     "shell.execute_reply": "2023-05-01T00:34:25.975727Z"
    },
    "papermill": {
     "duration": 3.114742,
     "end_time": "2023-05-01T00:34:25.979289",
     "exception": false,
     "start_time": "2023-05-01T00:34:22.864547",
     "status": "completed"
    },
    "tags": []
   },
   "outputs": [
    {
     "data": {
      "text/plain": [
       "relationship      0.067938\n",
       "education-num     0.060432\n",
       "age               0.059306\n",
       "capital-gain      0.056805\n",
       "hours-per-week    0.031981\n",
       "sex               0.022207\n",
       "marital-status    0.017120\n",
       "education         0.015108\n",
       "workclass         0.012913\n",
       "occupation        0.011359\n",
       "race              0.008929\n",
       "capital-loss      0.003746\n",
       "fnlwgt            0.003088\n",
       "native-country    0.000000\n",
       "Name: MI Score, dtype: float64"
      ]
     },
     "execution_count": 57,
     "metadata": {},
     "output_type": "execute_result"
    }
   ],
   "source": [
    "mi_score = get_mi_score(X, y)\n",
    "mi_score"
   ]
  },
  {
   "cell_type": "code",
   "execution_count": 58,
   "id": "8c4007fd",
   "metadata": {
    "execution": {
     "iopub.execute_input": "2023-05-01T00:34:26.046906Z",
     "iopub.status.busy": "2023-05-01T00:34:26.045539Z",
     "iopub.status.idle": "2023-05-01T00:34:26.446055Z",
     "shell.execute_reply": "2023-05-01T00:34:26.445232Z"
    },
    "papermill": {
     "duration": 0.436449,
     "end_time": "2023-05-01T00:34:26.448243",
     "exception": false,
     "start_time": "2023-05-01T00:34:26.011794",
     "status": "completed"
    },
    "tags": []
   },
   "outputs": [
    {
     "data": {
      "text/plain": [
       "[Text(0.5, 1.0, 'MI Scores')]"
      ]
     },
     "execution_count": 58,
     "metadata": {},
     "output_type": "execute_result"
    },
    {
     "data": {
      "image/png": "[encoded data removed]",
      "text/plain": [
       "<Figure size 800x600 with 1 Axes>"
      ]
     },
     "metadata": {},
     "output_type": "display_data"
    }
   ],
   "source": [
    "# plot mi scores\n",
    "mi_score = pd.DataFrame(mi_score).sort_values(by='MI Score')\n",
    "fig = plt.figure(figsize=(8, 6))\n",
    "ax = fig.gca()\n",
    "mi_score.plot.barh(ax=ax)\n",
    "ax.set(title='MI Scores')"
   ]
  },
  {
   "cell_type": "code",
   "execution_count": 59,
   "id": "2e75dee2",
   "metadata": {
    "execution": {
     "iopub.execute_input": "2023-05-01T00:34:26.516429Z",
     "iopub.status.busy": "2023-05-01T00:34:26.515807Z",
     "iopub.status.idle": "2023-05-01T00:34:26.524610Z",
     "shell.execute_reply": "2023-05-01T00:34:26.523699Z"
    },
    "papermill": {
     "duration": 0.045851,
     "end_time": "2023-05-01T00:34:26.526953",
     "exception": false,
     "start_time": "2023-05-01T00:34:26.481102",
     "status": "completed"
    },
    "tags": []
   },
   "outputs": [],
   "source": [
    "# remove two features with lowest mi scores, almost 0\n",
    "fs = ['native-country', 'fnlwgt']\n",
    "X.drop(fs, axis=1, inplace=True)\n",
    "del fs # delete fs variable"
   ]
  },
  {
   "cell_type": "code",
   "execution_count": 60,
   "id": "3b4269af",
   "metadata": {
    "execution": {
     "iopub.execute_input": "2023-05-01T00:34:26.594561Z",
     "iopub.status.busy": "2023-05-01T00:34:26.593929Z",
     "iopub.status.idle": "2023-05-01T00:34:26.639962Z",
     "shell.execute_reply": "2023-05-01T00:34:26.638745Z"
    },
    "papermill": {
     "duration": 0.082636,
     "end_time": "2023-05-01T00:34:26.642711",
     "exception": false,
     "start_time": "2023-05-01T00:34:26.560075",
     "status": "completed"
    },
    "tags": []
   },
   "outputs": [
    {
     "data": {
      "text/html": [
       "<div>\n",
       "<style scoped>\n",
       "    .dataframe tbody tr th:only-of-type {\n",
       "        vertical-align: middle;\n",
       "    }\n",
       "\n",
       "    .dataframe tbody tr th {\n",
       "        vertical-align: top;\n",
       "    }\n",
       "\n",
       "    .dataframe thead th {\n",
       "        text-align: right;\n",
       "    }\n",
       "</style>\n",
       "<table border=\"1\" class=\"dataframe\">\n",
       "  <thead>\n",
       "    <tr style=\"text-align: right;\">\n",
       "      <th></th>\n",
       "      <th>age</th>\n",
       "      <th>workclass</th>\n",
       "      <th>education</th>\n",
       "      <th>education-num</th>\n",
       "      <th>marital-status</th>\n",
       "      <th>occupation</th>\n",
       "      <th>relationship</th>\n",
       "      <th>race</th>\n",
       "      <th>sex</th>\n",
       "      <th>capital-gain</th>\n",
       "      <th>capital-loss</th>\n",
       "      <th>hours-per-week</th>\n",
       "    </tr>\n",
       "  </thead>\n",
       "  <tbody>\n",
       "    <tr>\n",
       "      <th>0</th>\n",
       "      <td>39</td>\n",
       "      <td>0</td>\n",
       "      <td>0</td>\n",
       "      <td>13</td>\n",
       "      <td>0</td>\n",
       "      <td>0</td>\n",
       "      <td>0</td>\n",
       "      <td>0</td>\n",
       "      <td>0</td>\n",
       "      <td>2174</td>\n",
       "      <td>0</td>\n",
       "      <td>40</td>\n",
       "    </tr>\n",
       "    <tr>\n",
       "      <th>1</th>\n",
       "      <td>50</td>\n",
       "      <td>1</td>\n",
       "      <td>0</td>\n",
       "      <td>13</td>\n",
       "      <td>1</td>\n",
       "      <td>1</td>\n",
       "      <td>1</td>\n",
       "      <td>0</td>\n",
       "      <td>0</td>\n",
       "      <td>0</td>\n",
       "      <td>0</td>\n",
       "      <td>13</td>\n",
       "    </tr>\n",
       "    <tr>\n",
       "      <th>2</th>\n",
       "      <td>38</td>\n",
       "      <td>2</td>\n",
       "      <td>1</td>\n",
       "      <td>9</td>\n",
       "      <td>2</td>\n",
       "      <td>2</td>\n",
       "      <td>0</td>\n",
       "      <td>0</td>\n",
       "      <td>0</td>\n",
       "      <td>0</td>\n",
       "      <td>0</td>\n",
       "      <td>40</td>\n",
       "    </tr>\n",
       "    <tr>\n",
       "      <th>3</th>\n",
       "      <td>53</td>\n",
       "      <td>2</td>\n",
       "      <td>2</td>\n",
       "      <td>7</td>\n",
       "      <td>1</td>\n",
       "      <td>2</td>\n",
       "      <td>1</td>\n",
       "      <td>1</td>\n",
       "      <td>0</td>\n",
       "      <td>0</td>\n",
       "      <td>0</td>\n",
       "      <td>40</td>\n",
       "    </tr>\n",
       "    <tr>\n",
       "      <th>4</th>\n",
       "      <td>28</td>\n",
       "      <td>2</td>\n",
       "      <td>0</td>\n",
       "      <td>13</td>\n",
       "      <td>1</td>\n",
       "      <td>3</td>\n",
       "      <td>2</td>\n",
       "      <td>1</td>\n",
       "      <td>1</td>\n",
       "      <td>0</td>\n",
       "      <td>0</td>\n",
       "      <td>40</td>\n",
       "    </tr>\n",
       "  </tbody>\n",
       "</table>\n",
       "</div>"
      ],
      "text/plain": [
       "   age  workclass  education  education-num  marital-status  occupation  \\\n",
       "0   39          0          0             13               0           0   \n",
       "1   50          1          0             13               1           1   \n",
       "2   38          2          1              9               2           2   \n",
       "3   53          2          2              7               1           2   \n",
       "4   28          2          0             13               1           3   \n",
       "\n",
       "   relationship  race  sex  capital-gain  capital-loss  hours-per-week  \n",
       "0             0     0    0          2174             0              40  \n",
       "1             1     0    0             0             0              13  \n",
       "2             0     0    0             0             0              40  \n",
       "3             1     1    0             0             0              40  \n",
       "4             2     1    1             0             0              40  "
      ]
     },
     "execution_count": 60,
     "metadata": {},
     "output_type": "execute_result"
    }
   ],
   "source": [
    "# convert categories into numbers\n",
    "for i in X.select_dtypes('object').columns:\n",
    "    X[i], _ = X[i].factorize()\n",
    "X.head()"
   ]
  },
  {
   "cell_type": "code",
   "execution_count": 61,
   "id": "0a15829b",
   "metadata": {
    "execution": {
     "iopub.execute_input": "2023-05-01T00:34:26.711921Z",
     "iopub.status.busy": "2023-05-01T00:34:26.710904Z",
     "iopub.status.idle": "2023-05-01T00:34:26.719861Z",
     "shell.execute_reply": "2023-05-01T00:34:26.718568Z"
    },
    "papermill": {
     "duration": 0.045422,
     "end_time": "2023-05-01T00:34:26.722174",
     "exception": false,
     "start_time": "2023-05-01T00:34:26.676752",
     "status": "completed"
    },
    "tags": []
   },
   "outputs": [
    {
     "data": {
      "text/plain": [
       "age               int64\n",
       "workclass         int64\n",
       "education         int64\n",
       "education-num     int64\n",
       "marital-status    int64\n",
       "occupation        int64\n",
       "relationship      int64\n",
       "race              int64\n",
       "sex               int64\n",
       "capital-gain      int64\n",
       "capital-loss      int64\n",
       "hours-per-week    int64\n",
       "dtype: object"
      ]
     },
     "execution_count": 61,
     "metadata": {},
     "output_type": "execute_result"
    }
   ],
   "source": [
    "X.dtypes"
   ]
  },
  {
   "cell_type": "markdown",
   "id": "6ea88cf5",
   "metadata": {
    "papermill": {
     "duration": 0.032344,
     "end_time": "2023-05-01T00:34:26.787179",
     "exception": false,
     "start_time": "2023-05-01T00:34:26.754835",
     "status": "completed"
    },
    "tags": []
   },
   "source": [
    "<h2 style='text-align: center; background: gold; padding: 20px; border: 2px solid black'>\n",
    "    Modeling\n",
    "</h2>"
   ]
  },
  {
   "cell_type": "markdown",
   "id": "0c499f79",
   "metadata": {
    "papermill": {
     "duration": 0.032918,
     "end_time": "2023-05-01T00:34:26.853556",
     "exception": false,
     "start_time": "2023-05-01T00:34:26.820638",
     "status": "completed"
    },
    "tags": []
   },
   "source": [
    "<div style=' background: gold; padding: 20px; border: 2px solid black'>\n",
    "    Here we will compare three ML classificatoin algorithms. We will see how to implement each of them, and how they perform in comparison with each other.<br />\n",
    "<ol>\n",
    "    <li>KMeansClustering</li>\n",
    "    <li>Gradient Boosting Classifier</li>\n",
    "    <li>K Neighbors Classifier</li>\n",
    "    <li>Decision Tree Classifier</li>\n",
    "    <li>SVM</li>\n",
    "    <li>Random Forest</li>\n",
    "    <li>Logistic Regression</li>\n",
    "    <li>Extra Trees Classifier</li>\n",
    "    <li>Gaussian NB</li>\n",
    "    <li>Ada Boost Classifier</li>\n",
    "</ol>\n",
    "</div>"
   ]
  },
  {
   "cell_type": "markdown",
   "id": "af4a3fab",
   "metadata": {},
   "source": [
    "<h1>Splitting Data<h1>"
   ]
  },
  {
   "cell_type": "code",
   "execution_count": 62,
   "id": "4e7b55f2",
   "metadata": {},
   "outputs": [],
   "source": [
    "from sklearn.model_selection import train_test_split\n",
    "X_train, X_test, y_train, y_test = train_test_split(X, y, test_size=1/3, random_state=10)"
   ]
  },
  {
   "cell_type": "code",
   "execution_count": 63,
   "id": "31a7cfff",
   "metadata": {},
   "outputs": [],
   "source": [
    "from sklearn.model_selection import train_test_split\n",
    "from sklearn.model_selection import KFold \n",
    "from sklearn.metrics import accuracy_score\n",
    "from sklearn.neighbors import KNeighborsClassifier\n",
    "from sklearn.svm import SVC\n",
    "from sklearn.linear_model import LogisticRegression\n",
    "from sklearn.tree import DecisionTreeClassifier\n",
    "from sklearn.naive_bayes import GaussianNB\n",
    "from sklearn.ensemble import RandomForestClassifier\n",
    "from sklearn.ensemble import GradientBoostingClassifier\n",
    "from sklearn.ensemble import ExtraTreesClassifier\n",
    "from sklearn.ensemble import AdaBoostClassifier\n",
    "from sklearn.cluster import KMeans"
   ]
  },
  {
   "cell_type": "code",
   "execution_count": 64,
   "id": "c1197570",
   "metadata": {},
   "outputs": [],
   "source": [
    "import pickle"
   ]
  },
  {
   "cell_type": "markdown",
   "id": "e843ffde",
   "metadata": {},
   "source": [
    "<h1>Apply Models<h1>"
   ]
  },
  {
   "cell_type": "code",
   "execution_count": 65,
   "id": "0e24c9d6",
   "metadata": {},
   "outputs": [],
   "source": [
    "models = []\n",
    "models.append(('GradientBoost', GradientBoostingClassifier()))\n",
    "models.append(('KNN', KNeighborsClassifier()))\n",
    "models.append(('DecisionTree', DecisionTreeClassifier()))\n",
    "models.append(('SVM', SVC(gamma='auto')))\n",
    "models.append(('RandomForest', RandomForestClassifier(n_estimators=10)))\n",
    "models.append(('LogisticRegression', LogisticRegression(solver='liblinear')))\n",
    "models.append(('ExtraTreesClassifier', ExtraTreesClassifier(n_estimators=10)))\n",
    "models.append(('GaussianNB', GaussianNB()))\n",
    "models.append(('KMeansClustering',KMeans(n_clusters=10)))\n",
    "models.append(('AdaBoostClassifier', AdaBoostClassifier()))\n"
   ]
  },
  {
   "cell_type": "markdown",
   "id": "dd72fa71",
   "metadata": {},
   "source": [
    "<h1>Training Models<h1>"
   ]
  },
  {
   "cell_type": "code",
   "execution_count": 66,
   "id": "aef26700",
   "metadata": {},
   "outputs": [
    {
     "name": "stderr",
     "output_type": "stream",
     "text": [
      "C:\\ProgramData\\anaconda3\\lib\\site-packages\\sklearn\\cluster\\_kmeans.py:870: FutureWarning: The default value of `n_init` will change from 10 to 'auto' in 1.4. Set the value of `n_init` explicitly to suppress the warning\n",
      "  warnings.warn(\n"
     ]
    },
    {
     "data": {
      "text/html": [
       "<div>\n",
       "<style scoped>\n",
       "    .dataframe tbody tr th:only-of-type {\n",
       "        vertical-align: middle;\n",
       "    }\n",
       "\n",
       "    .dataframe tbody tr th {\n",
       "        vertical-align: top;\n",
       "    }\n",
       "\n",
       "    .dataframe thead th {\n",
       "        text-align: right;\n",
       "    }\n",
       "</style>\n",
       "<table border=\"1\" class=\"dataframe\">\n",
       "  <thead>\n",
       "    <tr style=\"text-align: right;\">\n",
       "      <th></th>\n",
       "      <th>Name</th>\n",
       "      <th>Score</th>\n",
       "    </tr>\n",
       "  </thead>\n",
       "  <tbody>\n",
       "    <tr>\n",
       "      <th>1</th>\n",
       "      <td>GradientBoost</td>\n",
       "      <td>86.281555</td>\n",
       "    </tr>\n",
       "    <tr>\n",
       "      <th>2</th>\n",
       "      <td>KNN</td>\n",
       "      <td>82.992445</td>\n",
       "    </tr>\n",
       "    <tr>\n",
       "      <th>3</th>\n",
       "      <td>DecisionTree</td>\n",
       "      <td>82.061913</td>\n",
       "    </tr>\n",
       "    <tr>\n",
       "      <th>4</th>\n",
       "      <td>SVM</td>\n",
       "      <td>81.527547</td>\n",
       "    </tr>\n",
       "    <tr>\n",
       "      <th>5</th>\n",
       "      <td>RandomForest</td>\n",
       "      <td>84.660033</td>\n",
       "    </tr>\n",
       "    <tr>\n",
       "      <th>6</th>\n",
       "      <td>LogisticRegression</td>\n",
       "      <td>82.439654</td>\n",
       "    </tr>\n",
       "    <tr>\n",
       "      <th>7</th>\n",
       "      <td>ExtraTreesClassifier</td>\n",
       "      <td>83.858485</td>\n",
       "    </tr>\n",
       "    <tr>\n",
       "      <th>8</th>\n",
       "      <td>GaussianNB</td>\n",
       "      <td>80.329832</td>\n",
       "    </tr>\n",
       "    <tr>\n",
       "      <th>9</th>\n",
       "      <td>KMeansClustering</td>\n",
       "      <td>71.199558</td>\n",
       "    </tr>\n",
       "    <tr>\n",
       "      <th>10</th>\n",
       "      <td>AdaBoostClassifier</td>\n",
       "      <td>85.756403</td>\n",
       "    </tr>\n",
       "  </tbody>\n",
       "</table>\n",
       "</div>"
      ],
      "text/plain": [
       "                    Name      Score\n",
       "1          GradientBoost  86.281555\n",
       "2                    KNN  82.992445\n",
       "3           DecisionTree  82.061913\n",
       "4                    SVM  81.527547\n",
       "5           RandomForest  84.660033\n",
       "6     LogisticRegression  82.439654\n",
       "7   ExtraTreesClassifier  83.858485\n",
       "8             GaussianNB  80.329832\n",
       "9       KMeansClustering  71.199558\n",
       "10    AdaBoostClassifier  85.756403"
      ]
     },
     "execution_count": 66,
     "metadata": {},
     "output_type": "execute_result"
    }
   ],
   "source": [
    "names = []\n",
    "scores = []\n",
    "for name, model in models:\n",
    "    model.fit(X_train, y_train)\n",
    "    y_pred = model.predict(X_test)\n",
    "    scores.append(accuracy_score(y_test, y_pred))\n",
    "    names.append(name)\n",
    "    \n",
    "models_comparison = pd.DataFrame({'Name': names, 'Score': scores})\n",
    "models_comparison['Score'] = models_comparison['Score'].apply(lambda x: x * 100)\n",
    "models_comparison.index = models_comparison.index + 1\n",
    "models_comparison"
   ]
  },
  {
   "cell_type": "markdown",
   "id": "4286ceea",
   "metadata": {},
   "source": [
    "<h1>K Fold training<h1>"
   ]
  },
  {
   "cell_type": "code",
   "execution_count": 67,
   "id": "33772e40",
   "metadata": {},
   "outputs": [
    {
     "name": "stderr",
     "output_type": "stream",
     "text": [
      "C:\\ProgramData\\anaconda3\\lib\\site-packages\\sklearn\\cluster\\_kmeans.py:870: FutureWarning: The default value of `n_init` will change from 10 to 'auto' in 1.4. Set the value of `n_init` explicitly to suppress the warning\n",
      "  warnings.warn(\n",
      "C:\\ProgramData\\anaconda3\\lib\\site-packages\\sklearn\\cluster\\_kmeans.py:870: FutureWarning: The default value of `n_init` will change from 10 to 'auto' in 1.4. Set the value of `n_init` explicitly to suppress the warning\n",
      "  warnings.warn(\n",
      "C:\\ProgramData\\anaconda3\\lib\\site-packages\\sklearn\\cluster\\_kmeans.py:870: FutureWarning: The default value of `n_init` will change from 10 to 'auto' in 1.4. Set the value of `n_init` explicitly to suppress the warning\n",
      "  warnings.warn(\n",
      "C:\\ProgramData\\anaconda3\\lib\\site-packages\\sklearn\\cluster\\_kmeans.py:870: FutureWarning: The default value of `n_init` will change from 10 to 'auto' in 1.4. Set the value of `n_init` explicitly to suppress the warning\n",
      "  warnings.warn(\n",
      "C:\\ProgramData\\anaconda3\\lib\\site-packages\\sklearn\\cluster\\_kmeans.py:870: FutureWarning: The default value of `n_init` will change from 10 to 'auto' in 1.4. Set the value of `n_init` explicitly to suppress the warning\n",
      "  warnings.warn(\n",
      "C:\\ProgramData\\anaconda3\\lib\\site-packages\\sklearn\\cluster\\_kmeans.py:870: FutureWarning: The default value of `n_init` will change from 10 to 'auto' in 1.4. Set the value of `n_init` explicitly to suppress the warning\n",
      "  warnings.warn(\n",
      "C:\\ProgramData\\anaconda3\\lib\\site-packages\\sklearn\\cluster\\_kmeans.py:870: FutureWarning: The default value of `n_init` will change from 10 to 'auto' in 1.4. Set the value of `n_init` explicitly to suppress the warning\n",
      "  warnings.warn(\n",
      "C:\\ProgramData\\anaconda3\\lib\\site-packages\\sklearn\\cluster\\_kmeans.py:870: FutureWarning: The default value of `n_init` will change from 10 to 'auto' in 1.4. Set the value of `n_init` explicitly to suppress the warning\n",
      "  warnings.warn(\n",
      "C:\\ProgramData\\anaconda3\\lib\\site-packages\\sklearn\\cluster\\_kmeans.py:870: FutureWarning: The default value of `n_init` will change from 10 to 'auto' in 1.4. Set the value of `n_init` explicitly to suppress the warning\n",
      "  warnings.warn(\n",
      "C:\\ProgramData\\anaconda3\\lib\\site-packages\\sklearn\\cluster\\_kmeans.py:870: FutureWarning: The default value of `n_init` will change from 10 to 'auto' in 1.4. Set the value of `n_init` explicitly to suppress the warning\n",
      "  warnings.warn(\n"
     ]
    },
    {
     "data": {
      "text/html": [
       "<div>\n",
       "<style scoped>\n",
       "    .dataframe tbody tr th:only-of-type {\n",
       "        vertical-align: middle;\n",
       "    }\n",
       "\n",
       "    .dataframe tbody tr th {\n",
       "        vertical-align: top;\n",
       "    }\n",
       "\n",
       "    .dataframe thead th {\n",
       "        text-align: right;\n",
       "    }\n",
       "</style>\n",
       "<table border=\"1\" class=\"dataframe\">\n",
       "  <thead>\n",
       "    <tr style=\"text-align: right;\">\n",
       "      <th></th>\n",
       "      <th>Name</th>\n",
       "      <th>Score</th>\n",
       "    </tr>\n",
       "  </thead>\n",
       "  <tbody>\n",
       "    <tr>\n",
       "      <th>1</th>\n",
       "      <td>GradientBoost</td>\n",
       "      <td>86.407038</td>\n",
       "    </tr>\n",
       "    <tr>\n",
       "      <th>2</th>\n",
       "      <td>KNN</td>\n",
       "      <td>83.446449</td>\n",
       "    </tr>\n",
       "    <tr>\n",
       "      <th>3</th>\n",
       "      <td>DecisionTree</td>\n",
       "      <td>82.042920</td>\n",
       "    </tr>\n",
       "    <tr>\n",
       "      <th>4</th>\n",
       "      <td>SVM</td>\n",
       "      <td>81.950793</td>\n",
       "    </tr>\n",
       "    <tr>\n",
       "      <th>5</th>\n",
       "      <td>RandomForest</td>\n",
       "      <td>84.595072</td>\n",
       "    </tr>\n",
       "    <tr>\n",
       "      <th>6</th>\n",
       "      <td>LogisticRegression</td>\n",
       "      <td>82.515877</td>\n",
       "    </tr>\n",
       "    <tr>\n",
       "      <th>7</th>\n",
       "      <td>ExtraTreesClassifier</td>\n",
       "      <td>83.692149</td>\n",
       "    </tr>\n",
       "    <tr>\n",
       "      <th>8</th>\n",
       "      <td>GaussianNB</td>\n",
       "      <td>80.602563</td>\n",
       "    </tr>\n",
       "    <tr>\n",
       "      <th>9</th>\n",
       "      <td>KMeansClustering</td>\n",
       "      <td>65.866985</td>\n",
       "    </tr>\n",
       "    <tr>\n",
       "      <th>10</th>\n",
       "      <td>AdaBoostClassifier</td>\n",
       "      <td>86.029299</td>\n",
       "    </tr>\n",
       "  </tbody>\n",
       "</table>\n",
       "</div>"
      ],
      "text/plain": [
       "                    Name      Score\n",
       "1          GradientBoost  86.407038\n",
       "2                    KNN  83.446449\n",
       "3           DecisionTree  82.042920\n",
       "4                    SVM  81.950793\n",
       "5           RandomForest  84.595072\n",
       "6     LogisticRegression  82.515877\n",
       "7   ExtraTreesClassifier  83.692149\n",
       "8             GaussianNB  80.602563\n",
       "9       KMeansClustering  65.866985\n",
       "10    AdaBoostClassifier  86.029299"
      ]
     },
     "execution_count": 67,
     "metadata": {},
     "output_type": "execute_result"
    }
   ],
   "source": [
    "# kfold cross-validation\n",
    "from sklearn.model_selection import cross_val_score\n",
    "\n",
    "names = []\n",
    "scores = []\n",
    "for name, model in models:\n",
    "    kfold = KFold(n_splits=10, random_state=123, shuffle=True) \n",
    "    score = cross_val_score(model, X, y, cv=kfold, scoring='accuracy').mean()\n",
    "    names.append(name)\n",
    "    scores.append(score)\n",
    "    pickle.dump(model, open(name+'.pkl', 'wb'))\n",
    "    \n",
    "kf_cross_val = pd.DataFrame({'Name': names, 'Score': scores})\n",
    "kf_cross_val['Score'] = kf_cross_val['Score'].apply(lambda x: x * 100)\n",
    "kf_cross_val.index = kf_cross_val.index + 1\n",
    "kf_cross_val"
   ]
  },
  {
   "cell_type": "markdown",
   "id": "25e2929f",
   "metadata": {},
   "source": [
    "<h1>Application Phase<h1>"
   ]
  },
  {
   "cell_type": "code",
   "execution_count": 87,
   "id": "0fdb316d",
   "metadata": {},
   "outputs": [
    {
     "name": "stdout",
     "output_type": "stream",
     "text": [
      "\n",
      "Please enter your age : 60\n",
      "\n",
      "Please enter your workclass : 1\n",
      "\n",
      "Please enter your education : 2\n",
      "\n",
      "Please enter your education-num : 13\n",
      "\n",
      "Please enter your marital-status : 2\n",
      "\n",
      "Please enter your occupation : 2\n",
      "\n",
      "Please enter your relationship : 1\n",
      "\n",
      "Please enter your race : 0\n",
      "\n",
      "Please enter your sex : 0\n",
      "\n",
      "Please enter your capital-gain : 0\n",
      "\n",
      "Please enter your capital-loss : 0\n",
      "\n",
      "Please enter your hours-per-week : 13\n"
     ]
    }
   ],
   "source": [
    "age_input = input(\"\\nPlease enter your age : \").strip()\n",
    "workclass_input= input(\"\\nPlease enter your workclass : \").strip()\n",
    "education_input= input(\"\\nPlease enter your education : \").strip()\n",
    "educationnum_input= input(\"\\nPlease enter your education-num : \").strip()\n",
    "maritalstatus_input= input(\"\\nPlease enter your marital-status : \").strip()\n",
    "occupation_input= input(\"\\nPlease enter your occupation : \").strip()\n",
    "relationship_input= input(\"\\nPlease enter your relationship : \").strip()\n",
    "race_input= input(\"\\nPlease enter your race : \").strip()\n",
    "sex_input= input(\"\\nPlease enter your sex : \").strip()\n",
    "capitalgain_input= input(\"\\nPlease enter your capital-gain : \").strip()\n",
    "capitalloss_input= input(\"\\nPlease enter your capital-loss : \").strip()\n",
    "hoursperweek_input= input(\"\\nPlease enter your hours-per-week : \").strip()\n"
   ]
  },
  {
   "cell_type": "code",
   "execution_count": 88,
   "id": "0d709c37",
   "metadata": {},
   "outputs": [
    {
     "name": "stdout",
     "output_type": "stream",
     "text": [
      "\n",
      "\n",
      "User Input Feature Vector:\n",
      "==========================\n",
      "\n",
      "  age workclass education education-num marital-status occupation  \\\n",
      "0  60         1         2            13              2          2   \n",
      "\n",
      "  relationship race sex capital-gain capital-loss hours-per-week  \n",
      "0            1    0   0            0            0             13  \n"
     ]
    }
   ],
   "source": [
    "\n",
    "user_input = pd.DataFrame({ 'age': [age_input],'workclass': [workclass_input],'education': [education_input],'education-num': [educationnum_input],'marital-status': [maritalstatus_input],'occupation': [occupation_input],'relationship': [relationship_input],'race': [race_input],'sex': [sex_input],'capital-gain': [capitalgain_input],'capital-loss': [capitalloss_input],'hours-per-week': [hoursperweek_input]})\n",
    "\n",
    "print(\"\\n\\nUser Input Feature Vector:\")\n",
    "print(\"==========================\\n\")\n",
    "print(user_input)"
   ]
  },
  {
   "cell_type": "code",
   "execution_count": 95,
   "id": "2448ca5a",
   "metadata": {},
   "outputs": [],
   "source": [
    "from prettytable import PrettyTable\n",
    "\n",
    "model = pickle.load(open('GradientBoost.pkl', 'rb'))"
   ]
  },
  {
   "cell_type": "code",
   "execution_count": 96,
   "id": "591285bc",
   "metadata": {},
   "outputs": [
    {
     "name": "stdout",
     "output_type": "stream",
     "text": [
      "+---------------------------+\n",
      "|         Prediction        |\n",
      "+---------------------------+\n",
      "|       Salary <= 50K       |\n",
      "+---------------------------+\n"
     ]
    }
   ],
   "source": [
    "predicted_target = model.predict(user_input)\n",
    "\n",
    "if(predicted_target == 1): \n",
    "    prediction = \"Salary > 50K\"\n",
    "if(predicted_target == 0):\n",
    "    prediction = \"Salary <= 50K\"\n",
    "\n",
    "# Add the Prediction in a Pretty Table\n",
    "\n",
    "pretty_table = PrettyTable()\n",
    "pretty_table.add_column(\"        Prediction       \",[prediction])\n",
    "print(pretty_table)"
   ]
  },
  {
   "cell_type": "markdown",
   "id": "2a945c05",
   "metadata": {
    "papermill": {
     "duration": 0.033939,
     "end_time": "2023-05-01T00:34:47.785545",
     "exception": false,
     "start_time": "2023-05-01T00:34:47.751606",
     "status": "completed"
    },
    "tags": []
   },
   "source": [
    "<h1 style='text-align: center;background: gold; padding: 20px; border: 2px solid black'>\n",
    "    Regards :)\n",
    "</h1>"
   ]
  }
 ],
 "metadata": {
  "kernelspec": {
   "display_name": "Python 3 (ipykernel)",
   "language": "python",
   "name": "python3"
  },
  "language_info": {
   "codemirror_mode": {
    "name": "ipython",
    "version": 3
   },
   "file_extension": ".py",
   "mimetype": "text/x-python",
   "name": "python",
   "nbconvert_exporter": "python",
   "pygments_lexer": "ipython3",
   "version": "3.10.9"
  },
  "papermill": {
   "default_parameters": {},
   "duration": 45.88407,
   "end_time": "2023-05-01T00:34:48.642567",
   "environment_variables": {},
   "exception": null,
   "input_path": "__notebook__.ipynb",
   "output_path": "__notebook__.ipynb",
   "parameters": {},
   "start_time": "2023-05-01T00:34:02.758497",
   "version": "2.3.4"
  }
 },
 "nbformat": 4,
 "nbformat_minor": 5
}
